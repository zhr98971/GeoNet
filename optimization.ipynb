{
  "nbformat": 4,
  "nbformat_minor": 0,
  "metadata": {
    "colab": {
      "provenance": []
    },
    "kernelspec": {
      "name": "python3",
      "display_name": "Python 3"
    },
    "language_info": {
      "name": "python"
    }
  },
  "cells": [
    {
      "cell_type": "markdown",
      "source": [
        "# 1: Imports"
      ],
      "metadata": {
        "id": "X7nXOhYiaINE"
      }
    },
    {
      "cell_type": "code",
      "execution_count": null,
      "metadata": {
        "id": "sbfZ-1dYaHA1"
      },
      "outputs": [],
      "source": [
        "import pandas as pd\n",
        "import numpy as np\n",
        "import matplotlib.pyplot as plt\n",
        "from __future__ import annotations\n",
        "from sympy import symbols, Eq, solve, sin, cos, pi, cot, sqrt"
      ]
    },
    {
      "cell_type": "markdown",
      "source": [
        "# 2: Defining Necessary Objects and Associated Functions"
      ],
      "metadata": {
        "id": "LwAhMxEHafGi"
      }
    },
    {
      "cell_type": "markdown",
      "source": [
        "## 2.1 Defining Point Object"
      ],
      "metadata": {
        "id": "CmRpGkIygslc"
      }
    },
    {
      "cell_type": "code",
      "source": [
        "class Point:\n",
        "  '''\n",
        "  Creates a point on the surface.\n",
        "    - float x: x coordinate\n",
        "    - float y: y coordinate\n",
        "    - list[Point] adj: list of adjacent points\n",
        "    - tuple(float, float) imbal: direction of imbalance of the point\n",
        "    - bool is_boundary: whether the point is a boundary point\n",
        "  '''\n",
        "\n",
        "  def __init__(self, x: float, y:float, is_boundary: bool = False):\n",
        "    '''\n",
        "    Constructor for Point\n",
        "    '''\n",
        "    self.x = x\n",
        "    self.y = y\n",
        "    self.adj = []\n",
        "    self.adj_dirs = {}\n",
        "    self.imbal = (0, 0)\n",
        "    self.is_boundary = is_boundary\n",
        "\n",
        "  def __str__(self) -> str:\n",
        "    '''\n",
        "    Returns a string representation of the point.\n",
        "    '''\n",
        "    return f'({self.x}, {self.y})'\n",
        "\n",
        "  def add_pt(self, pt: Point) -> bool:\n",
        "    '''\n",
        "    Adds a point to the adjacent list and updates the adj_dirs dict. Returns\n",
        "    True if successful, False otherwise.\n",
        "    '''\n",
        "    dist = np.sqrt((pt.x - self.x)**2 + (pt.y - self.y)**2)\n",
        "    if (dist == 0):\n",
        "      return False\n",
        "\n",
        "    self.adj.append(pt)\n",
        "    dir_x = (pt.x - self.x) / dist\n",
        "    dir_y = (pt.y - self.y) / dist\n",
        "    self.adj_dirs[pt] = (dir_x, dir_y)\n",
        "    self._update_imbal()\n",
        "    return True\n",
        "\n",
        "  def remove_pt(self, pt: Point) -> bool:\n",
        "    '''\n",
        "    Removes a point from the adjacent list and updates the adj_dirs dict.\n",
        "    Returns True if successful, False otherwise.\n",
        "    '''\n",
        "    if pt not in self.adj:\n",
        "      return False\n",
        "    self.adj.remove(pt)\n",
        "    del self.adj_dirs[pt]\n",
        "    self._update_imbal()\n",
        "    return True\n",
        "\n",
        "  def _update_adj_dirs(self) -> None:\n",
        "    '''\n",
        "    Updates the adj_dirs dict. Used as helper function for update_position\n",
        "    '''\n",
        "    for pt in self.adj:\n",
        "      dist = np.sqrt((pt.x - self.x)**2 + (pt.y - self.y)**2)\n",
        "      dir_x = (pt.x - self.x) / dist\n",
        "      dir_y = (pt.y - self.y) / dist\n",
        "      self.adj_dirs[pt] = (dir_x, dir_y)\n",
        "\n",
        "\n",
        "  def _update_imbal(self) -> None:\n",
        "    '''\n",
        "    Updates the imbalance of the point using adj_dirs dict. Used as helper\n",
        "    function for add_pt and remove_pt\n",
        "    '''\n",
        "    dir_x = 0\n",
        "    dir_y = 0\n",
        "    for dir in self.adj_dirs:\n",
        "      dir_x += self.adj_dirs[dir][0]\n",
        "      dir_y += self.adj_dirs[dir][1]\n",
        "    self.imbal = (dir_x, dir_y)\n",
        "\n",
        "\n",
        "  def update_position(self, x: float, y: float) -> None:\n",
        "    '''\n",
        "    Updates the position of the point.\n",
        "    '''\n",
        "    self.x = x\n",
        "    self.y = y\n",
        "    self._update_adj_dirs()\n",
        "    self._update_imbal()"
      ],
      "metadata": {
        "id": "I5w90IbNaQzq"
      },
      "execution_count": null,
      "outputs": []
    },
    {
      "cell_type": "markdown",
      "source": [
        "## 2.2: Defining Functions"
      ],
      "metadata": {
        "id": "611a0UWlphcK"
      }
    },
    {
      "cell_type": "markdown",
      "source": [
        "### 2.2.1: Functions for Computing, Generating, and Processing Points"
      ],
      "metadata": {
        "id": "lnoqieOPnJ69"
      }
    },
    {
      "cell_type": "code",
      "source": [
        "def connect(p1: Point, p2: Point) -> bool:\n",
        "  '''\n",
        "  Connects two points together. Returns True if successful, False otherwise.\n",
        "  '''\n",
        "  return p1.add_pt(p2) and p2.add_pt(p1)\n",
        "\n",
        "\n",
        "def distance(p1: Point, p2: Point) -> float:\n",
        "  '''\n",
        "  Returns the distance between two points.\n",
        "  '''\n",
        "  return np.sqrt((p1.x - p2.x)**2 + (p1.y - p2.y)**2)\n",
        "\n",
        "\n",
        "def direction(anchor: Point, point: Point) -> tuple(float, float):\n",
        "  '''\n",
        "  Returns the unit vector direction from anchor to point.\n",
        "  '''\n",
        "  dist = distance(anchor, point)\n",
        "  return (point.x - anchor.x) / dist, (point.y - anchor.y) / dist\n",
        "\n",
        "\n",
        "def angle_from_x_axis(anchor: Point, point: Point) -> float:\n",
        "  '''\n",
        "  Returns the angle of the vector from anchor to point from the x axis,\n",
        "  measured in radians and counterclockwise.\n",
        "  '''\n",
        "  # print(\"anchor:\", anchor, \", point:\", point)\n",
        "  # print(\"angle from x debug\", \"y =\", (point.y - anchor.y), \", x = \",(point.x - anchor.x))\n",
        "  return np.arctan2(point.y - anchor.y, point.x - anchor.x)\n",
        "\n",
        "\n",
        "def degrees_to_radians(degrees: float) -> float:\n",
        "  '''\n",
        "  Converts degrees to radians.\n",
        "  '''\n",
        "  return degrees * np.pi / 180\n",
        "\n",
        "\n",
        "def radians_to_degrees(radians: float) -> float:\n",
        "  '''\n",
        "  Converts radians to degrees.\n",
        "  '''\n",
        "  return radians * 180 / np.pi\n",
        "\n",
        "\n",
        "def rotate_anticlockwise(point: Point, angle: float, anchor: Point) -> Point:\n",
        "  '''\n",
        "  Returns a new interior point with the coordinates of point rotated\n",
        "  anticlockwise by angle in randians around anchor.\n",
        "  '''\n",
        "  dist = distance(anchor, point)\n",
        "  anchor_to_pt_angle = angle_from_x_axis(anchor, point)\n",
        "  angle += anchor_to_pt_angle\n",
        "  # print(\"rotate_anticlockwise debug: new_angle =\", radians_to_degrees(angle),\n",
        "  #       \", anchor_to_pt_angle =\", radians_to_degrees(anchor_to_pt_angle))\n",
        "\n",
        "\n",
        "  new_x = anchor.x + dist * np.cos(angle)\n",
        "  new_y = anchor.y + dist * np.sin(angle)\n",
        "  return Point(new_x, new_y)\n",
        "\n",
        "\n",
        "def midpoint(p1: Point, p2: Point) -> Point:\n",
        "  '''\n",
        "  Returns a new interior point with coords that is the midpoint of p1 and p2.\n",
        "  '''\n",
        "\n",
        "  return Point((p1.x + p2.x) / 2, (p1.y + p2.y) / 2)\n",
        "\n",
        "\n",
        "def intersect(anchor_1: Point, dir_1: tuple(float, float), anchor_2: Point, dir_2: tuple(float, float)) -> Point:\n",
        "  '''\n",
        "  Returns the point of intersection between two lines starting at anchor_1 and\n",
        "  anchor_2, with directions dir_1 and dir_2 respectively.\n",
        "  '''\n",
        "  pt_1 = np.array([anchor_1.x, anchor_1.y])\n",
        "  pt_2 = np.array([anchor_2.x, anchor_2.y])\n",
        "  b = pt_2 - pt_1\n",
        "\n",
        "  dir_1 = np.array(dir_1)\n",
        "  dir_2 = np.array(dir_2)\n",
        "  A = np.column_stack((dir_1, -dir_2))\n",
        "\n",
        "  if np.linalg.det(A) == 0: # No solution or no unique solution\n",
        "    return None\n",
        "\n",
        "  t_s = np.linalg.solve(A, b)\n",
        "\n",
        "  t = t_s[0]\n",
        "  s = t_s[1]\n",
        "\n",
        "  # print(\"debug intersect result with t: t =\", t, \", x =\", (pt_1[0] + t * dir_1[0]), \", y=\", pt_1[1] + t * dir_1[1])\n",
        "  # print(\"debug intersect result with s: s =\", s, \", x =\", (pt_2[0] + s * dir_2[0]),  \", y=\", pt_2[1] + s * dir_2[1])\n",
        "\n",
        "  return Point(pt_2[0] + s * dir_2[0], pt_2[1] + s * dir_2[1])\n",
        "\n"
      ],
      "metadata": {
        "id": "-3QQZmXpprq7"
      },
      "execution_count": null,
      "outputs": []
    },
    {
      "cell_type": "markdown",
      "source": [
        "### 2.2.2: Functions for Visualization"
      ],
      "metadata": {
        "id": "eImsn9QAoh3b"
      }
    },
    {
      "cell_type": "code",
      "source": [
        "def draw_line(pt_1: Point, pt_2: Point) -> None:\n",
        "  '''\n",
        "  Draws a line between pt_1 and pt_2.\n",
        "  '''\n",
        "  plt.plot([pt_1.x, pt_2.x], [pt_1.y, pt_2.y], color='blue', alpha=0.25)\n",
        "\n",
        "def draw_line_dir(anchor: Point, dir: tuple[float, float], magnitude: float=1) -> None:\n",
        "  '''\n",
        "  Draws a line from anchor with direction dir with length magnitude.\n",
        "  '''\n",
        "  dir_norm = np.sqrt(dir[0]**2 + dir[1]**2)\n",
        "  dir = (dir[0] / dir_norm * magnitude, dir[1] / dir_norm * magnitude)\n",
        "  plt.plot([anchor.x, anchor.x + dir[0]], [anchor.y, anchor.y + dir[1]], color='blue', alpha=1)"
      ],
      "metadata": {
        "id": "vSOwidgIpTvz"
      },
      "execution_count": null,
      "outputs": []
    },
    {
      "cell_type": "markdown",
      "source": [
        "# 3: Defining Value of All Points\n",
        "\n",
        "*Note: In the future, if I am designing new nets, I might write a script that takes the input of form of an adjacency list `G(V,E)`. *"
      ],
      "metadata": {
        "id": "0ILbVb2Qr8xB"
      }
    },
    {
      "cell_type": "code",
      "source": [
        "from math import degrees\n",
        "'''\n",
        "This script defines the preliminary geodesic net with 4 boundary vertices and\n",
        "25 interior (potentially balanced) vertices.\n",
        "'''\n",
        "\n",
        "interior_vertices = []\n",
        "interior_vertices_name = [\"A12\", \"A11\", \"B1\", \"A42\", \"A41\", \"B4\", \"A32\", \"A31\",\n",
        "                          \"B3\", \"A22\", \"A21\", \"B2\",\n",
        "                          \"P\", \"F1\", \"F2\", \"F3\", \"F4\",\n",
        "                          \"C1\", \"C2\", \"C3\", \"C4\",\n",
        "                          \"E1\", \"E2\", \"E3\", \"E4\"]\n",
        "boundary_vertices = []\n",
        "boundary_vertices_name = [\"D1\", \"D2\", \"D3\", \"D4\"]\n",
        "\n",
        "\n",
        "#######################\n",
        "# Interior Vertices 1\n",
        "#######################\n",
        "\n",
        "# Defining and connecting the dodecagon (A and B points)\n",
        "\n",
        "edge_length = 10 # Modify depending on the optimization\n",
        "\n",
        "a12 = Point(edge_length, 0)\n",
        "interior_vertices.append(a12)\n",
        "a11 = Point(0, 0)\n",
        "interior_vertices.append(a11)\n",
        "connect(a12, a11)\n",
        "\n",
        "angle1 = degrees_to_radians(165)\n",
        "angle2 = degrees_to_radians(120)\n",
        "\n",
        "for i in range(1, 11):\n",
        "  if (i - 2) % 3 == 0:\n",
        "    p = rotate_anticlockwise(interior_vertices[-2], angle2, interior_vertices[-1])\n",
        "  else:\n",
        "    p = rotate_anticlockwise(interior_vertices[-2], angle1, interior_vertices[-1])\n",
        "  interior_vertices.append(p)\n",
        "  connect(interior_vertices[-2], interior_vertices[-1])\n",
        "\n",
        "connect(interior_vertices[0], interior_vertices[-1])\n",
        "\n",
        "# Defining and connecting the 5 vertices inside the dodecagon\n",
        "\n",
        "## Midpoint P\n",
        "i = interior_vertices_name.index(\"B1\")\n",
        "j = interior_vertices_name.index(\"B3\")\n",
        "\n",
        "p = midpoint(interior_vertices[i], interior_vertices[j])\n",
        "interior_vertices.append(p)\n",
        "\n",
        "## F points\n",
        "\n",
        "lst = [(\"A11\", \"A12\"), (\"A21\", \"A22\"), (\"A31\", \"A32\"), (\"A41\", \"A42\")]\n",
        "# label name to iterate on\n",
        "\n",
        "for label in lst:\n",
        "  i1 = interior_vertices_name.index(label[0])\n",
        "  i2 = interior_vertices_name.index(label[1])\n",
        "  f = midpoint(interior_vertices[i1], interior_vertices[i2])\n",
        "\n",
        "  dist = distance(f, interior_vertices[i1])\n",
        "  dist = dist / np.sqrt(3)\n",
        "  dir = direction(f, p)\n",
        "  dir = (dir[0] * dist, dir[1] * dist)\n",
        "  f.update_position(f.x + dir[0], f.y + dir[1])\n",
        "\n",
        "  interior_vertices.append(f)\n",
        "\n",
        "  connect(interior_vertices[i1], f)\n",
        "  connect(interior_vertices[i2], f)\n",
        "  connect(p, f)\n",
        "\n",
        "# Defining and connecting the 4 vertices close to the B vertices (C points)\n",
        "\n",
        "t = 0.012845855483249223 # Modify depending on the optimization\n",
        "\n",
        "lst = [(\"B1\", \"A42\", \"A11\"), (\"B2\", \"A12\", \"A21\"), (\"B3\", \"A22\", \"A31\"),\n",
        "       (\"B4\", \"A32\", \"A41\")] # label name to iterate on\n",
        "\n",
        "for label in lst:\n",
        "  i = interior_vertices_name.index(label[0])\n",
        "\n",
        "  j1 = interior_vertices_name.index(label[1])\n",
        "  j2 = interior_vertices_name.index(label[2])\n",
        "\n",
        "  x = (1 + t) * interior_vertices[i].x - t * p.x\n",
        "  y = (1 + t) * interior_vertices[i].y - t * p.y\n",
        "  c = Point(x, y)\n",
        "  interior_vertices.append(c)\n",
        "  connect(interior_vertices[i], c)\n",
        "  connect(interior_vertices[j1], c)\n",
        "  connect(interior_vertices[j2], c)\n",
        "\n",
        "\n",
        "#######################\n",
        "# Boundary Vertices (D points)\n",
        "#######################\n",
        "\n",
        "lst = [(\"C1\", \"C2\", \"A42\", \"A21\", \"A11\", \"A12\"),\n",
        "       (\"C2\", \"C3\", \"A12\", \"A31\", \"A21\", \"A22\"),\n",
        "       (\"C3\", \"C4\", \"A22\", \"A41\", \"A31\", \"A32\"),\n",
        "       (\"C4\", \"C1\", \"A32\", \"A11\", \"A41\", \"A42\")]\n",
        "       # label name to iterate on\n",
        "\n",
        "for label in lst:\n",
        "  i1 = interior_vertices_name.index(label[0])\n",
        "  pt_1 = interior_vertices[i1]\n",
        "  i2 = interior_vertices_name.index(label[1])\n",
        "  pt_2 = interior_vertices[i2]\n",
        "\n",
        "  j1 = interior_vertices_name.index(label[2])\n",
        "  anchor_1 = interior_vertices[j1]\n",
        "  j2 = interior_vertices_name.index(label[3])\n",
        "  anchor_2 = interior_vertices[j2]\n",
        "\n",
        "  k1 = interior_vertices_name.index(label[4])\n",
        "  pt_3 = interior_vertices[k1]\n",
        "  k2 = interior_vertices_name.index(label[5])\n",
        "  pt_4 = interior_vertices[k2]\n",
        "\n",
        "  dir_1 = direction(anchor_1, pt_1)\n",
        "  dir_2 = direction(anchor_2, pt_2)\n",
        "  # print(\"debug Boundary Vertices: dir_1 =\", dir_1, \", dir_2 =\", dir_2)\n",
        "\n",
        "  d = intersect(anchor_1, dir_1, anchor_2, dir_2)\n",
        "\n",
        "  if (d == None):\n",
        "    print(\"Error: No intersection found\")\n",
        "    exit()\n",
        "\n",
        "  d.is_boundary = True\n",
        "  # print(\"debug Boundary Vertices: D =\", d)\n",
        "  boundary_vertices.append(d)\n",
        "  connect(pt_1, d)\n",
        "  connect(pt_2, d)\n",
        "  connect(pt_3, d)\n",
        "  connect(pt_4, d)\n",
        "\n",
        "\n",
        "#######################\n",
        "# Interior Vertices 2 (E points)\n",
        "#######################\n",
        "\n",
        "i1 = boundary_vertices_name.index(\"D1\")\n",
        "i2 = boundary_vertices_name.index(\"D2\")\n",
        "i3 = boundary_vertices_name.index(\"D3\")\n",
        "i4 = boundary_vertices_name.index(\"D4\")\n",
        "d1 = boundary_vertices[i1]\n",
        "d2 = boundary_vertices[i2]\n",
        "d3 = boundary_vertices[i3]\n",
        "d4 = boundary_vertices[i4]\n",
        "\n",
        "j = interior_vertices_name.index(\"P\")\n",
        "p = interior_vertices[j]\n",
        "\n",
        "k1 = interior_vertices_name.index(\"C1\")\n",
        "k2 = interior_vertices_name.index(\"C2\")\n",
        "k3 = interior_vertices_name.index(\"C3\")\n",
        "k4 = interior_vertices_name.index(\"C4\")\n",
        "\n",
        "c1 = interior_vertices[k1]\n",
        "c2 = interior_vertices[k2]\n",
        "c3 = interior_vertices[k3]\n",
        "c4 = interior_vertices[k4]\n",
        "\n",
        "\n",
        "angle3 = degrees_to_radians(75)\n",
        "\n",
        "dir_11 = (-1, np.tan(angle3))\n",
        "dir_21 = (1, np.tan(angle3))\n",
        "dir_31 = (1, -np.tan(angle3))\n",
        "dir_41 = (-1, -np.tan(angle3))\n",
        "\n",
        "dir_12 = (-1, -1)\n",
        "dir_22 = (1, -1)\n",
        "dir_32 = (1, 1)\n",
        "dir_42 = (-1, 1)\n",
        "\n",
        "e1 = intersect(d1, dir_11, p, dir_12)\n",
        "connect(d1, e1)\n",
        "connect(d4, e1)\n",
        "connect(c1, e1)\n",
        "interior_vertices.append(e1)\n",
        "e2 = intersect(d1, dir_21, p, dir_22)\n",
        "connect(d2, e2)\n",
        "connect(d1, e2)\n",
        "connect(c2, e2)\n",
        "interior_vertices.append(e2)\n",
        "e3 = intersect(d3, dir_31, p, dir_32)\n",
        "connect(d3, e3)\n",
        "connect(d2, e3)\n",
        "connect(c3, e3)\n",
        "interior_vertices.append(e3)\n",
        "e4 = intersect(d3, dir_41, p, dir_42)\n",
        "connect(d4, e4)\n",
        "connect(d3, e4)\n",
        "connect(c4, e4)\n",
        "interior_vertices.append(e4)"
      ],
      "metadata": {
        "id": "gV33m_0XspO3"
      },
      "execution_count": null,
      "outputs": []
    },
    {
      "cell_type": "markdown",
      "source": [
        "Visualizing the Points"
      ],
      "metadata": {
        "id": "03jdxFfXE3W4"
      }
    },
    {
      "cell_type": "code",
      "source": [
        "coords_int = []\n",
        "for i in range(len(interior_vertices)):\n",
        "  coords_int.append((interior_vertices[i].x, interior_vertices[i].y))\n",
        "\n",
        "coords_bound = []\n",
        "for i in range(len(boundary_vertices)):\n",
        "  coords_bound.append((boundary_vertices[i].x, boundary_vertices[i].y))\n",
        "\n",
        "plt.scatter(*zip(*coords_int), s=30, marker=\".\", color=\"purple\")\n",
        "plt.scatter(*zip(*coords_bound), s=30, marker=\".\", color=\"red\")\n",
        "\n",
        "# Might need BFS/DFS to traverse whole graph and draw all edges\n",
        "# Alternative is draw all edges twice (current implementation)\n",
        "\n",
        "for i in range(len(interior_vertices)):\n",
        "  adj_pts = interior_vertices[i].adj\n",
        "  for j in range(len(adj_pts)):\n",
        "    draw_line(interior_vertices[i], adj_pts[j])\n",
        "\n",
        "for i in range(len(boundary_vertices)):\n",
        "  adj_pts = boundary_vertices[i].adj\n",
        "  for j in range(len(adj_pts)):\n",
        "    draw_line(boundary_vertices[i], adj_pts[j])\n",
        "\n",
        "plt.axis('equal')\n",
        "plt.show"
      ],
      "metadata": {
        "colab": {
          "base_uri": "https://localhost:8080/",
          "height": 602
        },
        "id": "RRRtsklI-bfJ",
        "outputId": "04086aaa-7ec5-40cc-f901-706907566f04"
      },
      "execution_count": null,
      "outputs": [
        {
          "output_type": "execute_result",
          "data": {
            "text/plain": [
              "<function matplotlib.pyplot.show(close=None, block=None)>"
            ],
            "text/html": [
              "<div style=\"max-width:800px; border: 1px solid var(--colab-border-color);\"><style>\n",
              "      pre.function-repr-contents {\n",
              "        overflow-x: auto;\n",
              "        padding: 8px 12px;\n",
              "        max-height: 500px;\n",
              "      }\n",
              "\n",
              "      pre.function-repr-contents.function-repr-contents-collapsed {\n",
              "        cursor: pointer;\n",
              "        max-height: 100px;\n",
              "      }\n",
              "    </style>\n",
              "    <pre style=\"white-space: initial; background:\n",
              "         var(--colab-secondary-surface-color); padding: 8px 12px;\n",
              "         border-bottom: 1px solid var(--colab-border-color);\"><b>matplotlib.pyplot.show</b><br/>def show(*args, **kwargs) -&gt; None</pre><pre class=\"function-repr-contents function-repr-contents-collapsed\" style=\"\"><a class=\"filepath\" style=\"display:none\" href=\"#\">/usr/local/lib/python3.11/dist-packages/matplotlib/pyplot.py</a>Display all open figures.\n",
              "\n",
              "Parameters\n",
              "----------\n",
              "block : bool, optional\n",
              "    Whether to wait for all figures to be closed before returning.\n",
              "\n",
              "    If `True` block and run the GUI main loop until all figure windows\n",
              "    are closed.\n",
              "\n",
              "    If `False` ensure that all figure windows are displayed and return\n",
              "    immediately.  In this case, you are responsible for ensuring\n",
              "    that the event loop is running to have responsive figures.\n",
              "\n",
              "    Defaults to True in non-interactive mode and to False in interactive\n",
              "    mode (see `.pyplot.isinteractive`).\n",
              "\n",
              "See Also\n",
              "--------\n",
              "ion : Enable interactive mode, which shows / updates the figure after\n",
              "      every plotting command, so that calling ``show()`` is not necessary.\n",
              "ioff : Disable interactive mode.\n",
              "savefig : Save the figure to an image file instead of showing it on screen.\n",
              "\n",
              "Notes\n",
              "-----\n",
              "**Saving figures to file and showing a window at the same time**\n",
              "\n",
              "If you want an image file as well as a user interface window, use\n",
              "`.pyplot.savefig` before `.pyplot.show`. At the end of (a blocking)\n",
              "``show()`` the figure is closed and thus unregistered from pyplot. Calling\n",
              "`.pyplot.savefig` afterwards would save a new and thus empty figure. This\n",
              "limitation of command order does not apply if the show is non-blocking or\n",
              "if you keep a reference to the figure and use `.Figure.savefig`.\n",
              "\n",
              "**Auto-show in jupyter notebooks**\n",
              "\n",
              "The jupyter backends (activated via ``%matplotlib inline``,\n",
              "``%matplotlib notebook``, or ``%matplotlib widget``), call ``show()`` at\n",
              "the end of every cell by default. Thus, you usually don&#x27;t have to call it\n",
              "explicitly there.</pre>\n",
              "      <script>\n",
              "      if (google.colab.kernel.accessAllowed && google.colab.files && google.colab.files.view) {\n",
              "        for (const element of document.querySelectorAll('.filepath')) {\n",
              "          element.style.display = 'block'\n",
              "          element.onclick = (event) => {\n",
              "            event.preventDefault();\n",
              "            event.stopPropagation();\n",
              "            google.colab.files.view(element.textContent, 569);\n",
              "          };\n",
              "        }\n",
              "      }\n",
              "      for (const element of document.querySelectorAll('.function-repr-contents')) {\n",
              "        element.onclick = (event) => {\n",
              "          event.preventDefault();\n",
              "          event.stopPropagation();\n",
              "          element.classList.toggle('function-repr-contents-collapsed');\n",
              "        };\n",
              "      }\n",
              "      </script>\n",
              "      </div>"
            ]
          },
          "metadata": {},
          "execution_count": 64
        },
        {
          "output_type": "display_data",
          "data": {
            "text/plain": [
              "<Figure size 640x480 with 1 Axes>"
            ],
            "image/png": "[encoded data removed]"
          },
          "metadata": {}
        }
      ]
    },
    {
      "cell_type": "code",
      "source": [
        "i = interior_vertices_name.index(\"B1\")\n",
        "p = interior_vertices[i]\n",
        "print(p.imbal)\n",
        "\n",
        "i = interior_vertices_name.index(\"C1\")\n",
        "p = interior_vertices[i]\n",
        "print(p.imbal)\n",
        "\n",
        "i = interior_vertices_name.index(\"E1\")\n",
        "p = interior_vertices[i]\n",
        "print(p.imbal)\n",
        "\n",
        "i = interior_vertices_name.index(\"A11\")\n",
        "p = interior_vertices[i]\n",
        "print(p.imbal)\n",
        "\n",
        "i = interior_vertices_name.index(\"A12\")\n",
        "p = interior_vertices[i]\n",
        "print(p.imbal)\n",
        "\n",
        "i = interior_vertices_name.index(\"F1\")\n",
        "p = interior_vertices[i]\n",
        "print(p.imbal)\n",
        "\n",
        "# Check imbalance of some representative points before optimizing"
      ],
      "metadata": {
        "colab": {
          "base_uri": "https://localhost:8080/"
        },
        "id": "a2w-jTLBuFlj",
        "outputId": "d7d22768-17d3-4c98-cd5a-86b47efaccc5"
      },
      "execution_count": null,
      "outputs": [
        {
          "output_type": "stream",
          "name": "stdout",
          "text": [
            "(np.float64(3.9968028886505635e-15), np.float64(-3.4416913763379853e-15))\n",
            "(np.float64(6.106226635438361e-15), np.float64(-5.995204332975845e-15))\n",
            "(np.float64(-9.325873406851315e-15), np.float64(1.0103029524088925e-14))\n",
            "(np.float64(0.013658036598403422), np.float64(-0.0007783002481963619))\n",
            "(np.float64(-0.013658036598407253), np.float64(-0.0007783002481998036))\n",
            "(np.float64(5.819775926220233e-16), np.float64(0.0))\n"
          ]
        }
      ]
    },
    {
      "cell_type": "code",
      "source": [
        "# Close_up of B1, C1, E1\n",
        "\n",
        "plt.clf()\n",
        "plt.close()\n",
        "i = interior_vertices_name.index(\"B1\")\n",
        "j = interior_vertices_name.index(\"C1\")\n",
        "k = interior_vertices_name.index(\"E1\")\n",
        "coords_int = []\n",
        "coords_int.append((interior_vertices[i].x, interior_vertices[i].y))\n",
        "adj_pts = interior_vertices[i].adj\n",
        "for i2 in range(len(adj_pts)):\n",
        "  dir = direction(interior_vertices[i], adj_pts[i2])\n",
        "  magnitude = min(1, distance(interior_vertices[i], adj_pts[i2]))\n",
        "  draw_line_dir(interior_vertices[i], dir, magnitude)\n",
        "\n",
        "coords_int.append((interior_vertices[j].x, interior_vertices[j].y))\n",
        "adj_pts = interior_vertices[j].adj\n",
        "for j2 in range(len(adj_pts)):\n",
        "  dir = direction(interior_vertices[j], adj_pts[j2])\n",
        "  magnitude = min(1, distance(interior_vertices[j], adj_pts[j2]))\n",
        "  draw_line_dir(interior_vertices[j], dir, magnitude)\n",
        "\n",
        "coords_int.append((interior_vertices[k].x, interior_vertices[k].y))\n",
        "adj_pts = interior_vertices[k].adj\n",
        "for k2 in range(len(adj_pts)):\n",
        "  dir = direction(interior_vertices[k], adj_pts[k2])\n",
        "  magnitude = min(1, distance(interior_vertices[k], adj_pts[k2]))\n",
        "  draw_line_dir(interior_vertices[k], dir, magnitude)\n",
        "\n",
        "\n",
        "# plt.scatter(*zip(*coords_int), s=100, marker=\"+\", color=\"purple\")\n",
        "\n",
        "# Might need BFS/DFS to traverse whole graph and draw all edges\n",
        "# Alternative is draw all edges twice (current implementation)\n",
        "\n",
        "plt.axis('equal')\n",
        "plt.show"
      ],
      "metadata": {
        "colab": {
          "base_uri": "https://localhost:8080/",
          "height": 598
        },
        "id": "SWGlAcT-8rqG",
        "outputId": "c25c7220-5200-49d5-ced8-63635753fb5d"
      },
      "execution_count": null,
      "outputs": [
        {
          "output_type": "execute_result",
          "data": {
            "text/plain": [
              "<function matplotlib.pyplot.show(close=None, block=None)>"
            ],
            "text/html": [
              "<div style=\"max-width:800px; border: 1px solid var(--colab-border-color);\"><style>\n",
              "      pre.function-repr-contents {\n",
              "        overflow-x: auto;\n",
              "        padding: 8px 12px;\n",
              "        max-height: 500px;\n",
              "      }\n",
              "\n",
              "      pre.function-repr-contents.function-repr-contents-collapsed {\n",
              "        cursor: pointer;\n",
              "        max-height: 100px;\n",
              "      }\n",
              "    </style>\n",
              "    <pre style=\"white-space: initial; background:\n",
              "         var(--colab-secondary-surface-color); padding: 8px 12px;\n",
              "         border-bottom: 1px solid var(--colab-border-color);\"><b>matplotlib.pyplot.show</b><br/>def show(*args, **kwargs) -&gt; None</pre><pre class=\"function-repr-contents function-repr-contents-collapsed\" style=\"\"><a class=\"filepath\" style=\"display:none\" href=\"#\">/usr/local/lib/python3.11/dist-packages/matplotlib/pyplot.py</a>Display all open figures.\n",
              "\n",
              "Parameters\n",
              "----------\n",
              "block : bool, optional\n",
              "    Whether to wait for all figures to be closed before returning.\n",
              "\n",
              "    If `True` block and run the GUI main loop until all figure windows\n",
              "    are closed.\n",
              "\n",
              "    If `False` ensure that all figure windows are displayed and return\n",
              "    immediately.  In this case, you are responsible for ensuring\n",
              "    that the event loop is running to have responsive figures.\n",
              "\n",
              "    Defaults to True in non-interactive mode and to False in interactive\n",
              "    mode (see `.pyplot.isinteractive`).\n",
              "\n",
              "See Also\n",
              "--------\n",
              "ion : Enable interactive mode, which shows / updates the figure after\n",
              "      every plotting command, so that calling ``show()`` is not necessary.\n",
              "ioff : Disable interactive mode.\n",
              "savefig : Save the figure to an image file instead of showing it on screen.\n",
              "\n",
              "Notes\n",
              "-----\n",
              "**Saving figures to file and showing a window at the same time**\n",
              "\n",
              "If you want an image file as well as a user interface window, use\n",
              "`.pyplot.savefig` before `.pyplot.show`. At the end of (a blocking)\n",
              "``show()`` the figure is closed and thus unregistered from pyplot. Calling\n",
              "`.pyplot.savefig` afterwards would save a new and thus empty figure. This\n",
              "limitation of command order does not apply if the show is non-blocking or\n",
              "if you keep a reference to the figure and use `.Figure.savefig`.\n",
              "\n",
              "**Auto-show in jupyter notebooks**\n",
              "\n",
              "The jupyter backends (activated via ``%matplotlib inline``,\n",
              "``%matplotlib notebook``, or ``%matplotlib widget``), call ``show()`` at\n",
              "the end of every cell by default. Thus, you usually don&#x27;t have to call it\n",
              "explicitly there.</pre>\n",
              "      <script>\n",
              "      if (google.colab.kernel.accessAllowed && google.colab.files && google.colab.files.view) {\n",
              "        for (const element of document.querySelectorAll('.filepath')) {\n",
              "          element.style.display = 'block'\n",
              "          element.onclick = (event) => {\n",
              "            event.preventDefault();\n",
              "            event.stopPropagation();\n",
              "            google.colab.files.view(element.textContent, 569);\n",
              "          };\n",
              "        }\n",
              "      }\n",
              "      for (const element of document.querySelectorAll('.function-repr-contents')) {\n",
              "        element.onclick = (event) => {\n",
              "          event.preventDefault();\n",
              "          event.stopPropagation();\n",
              "          element.classList.toggle('function-repr-contents-collapsed');\n",
              "        };\n",
              "      }\n",
              "      </script>\n",
              "      </div>"
            ]
          },
          "metadata": {},
          "execution_count": 66
        },
        {
          "output_type": "display_data",
          "data": {
            "text/plain": [
              "<Figure size 640x480 with 1 Axes>"
            ],
            "image/png": "[encoded data removed]"
          },
          "metadata": {}
        }
      ]
    },
    {
      "cell_type": "code",
      "source": [
        "# Close_up of A11, A12, F1\n",
        "\n",
        "plt.clf()\n",
        "plt.close()\n",
        "i = interior_vertices_name.index(\"A11\")\n",
        "j = interior_vertices_name.index(\"A12\")\n",
        "k = interior_vertices_name.index(\"F1\")\n",
        "coords_int = []\n",
        "coords_int.append((interior_vertices[i].x, interior_vertices[i].y))\n",
        "adj_pts = interior_vertices[i].adj\n",
        "for i2 in range(len(adj_pts)):\n",
        "  dir = direction(interior_vertices[i], adj_pts[i2])\n",
        "  magnitude = min(1, distance(interior_vertices[i], adj_pts[i2]))\n",
        "  draw_line_dir(interior_vertices[i], dir, magnitude)\n",
        "\n",
        "coords_int.append((interior_vertices[j].x, interior_vertices[j].y))\n",
        "adj_pts = interior_vertices[j].adj\n",
        "for j2 in range(len(adj_pts)):\n",
        "  dir = direction(interior_vertices[j], adj_pts[j2])\n",
        "  magnitude = min(1, distance(interior_vertices[j], adj_pts[j2]))\n",
        "  draw_line_dir(interior_vertices[j], dir, magnitude)\n",
        "\n",
        "coords_int.append((interior_vertices[k].x, interior_vertices[k].y))\n",
        "adj_pts = interior_vertices[k].adj\n",
        "for k2 in range(len(adj_pts)):\n",
        "  dir = direction(interior_vertices[k], adj_pts[k2])\n",
        "  magnitude = min(1, distance(interior_vertices[k], adj_pts[k2]))\n",
        "  draw_line_dir(interior_vertices[k], dir, magnitude)\n",
        "\n",
        "\n",
        "# plt.scatter(*zip(*coords_int), s=100, marker=\"x\", color=\"purple\")\n",
        "\n",
        "# Might need BFS/DFS to traverse whole graph and draw all edges\n",
        "# Alternative is draw all edges twice (current implementation)\n",
        "\n",
        "plt.axis('equal')\n",
        "plt.show"
      ],
      "metadata": {
        "colab": {
          "base_uri": "https://localhost:8080/",
          "height": 598
        },
        "id": "I7NCqJ9l8snR",
        "outputId": "fd79926f-4339-409f-ec64-ba32c93bd1e2"
      },
      "execution_count": null,
      "outputs": [
        {
          "output_type": "execute_result",
          "data": {
            "text/plain": [
              "<function matplotlib.pyplot.show(close=None, block=None)>"
            ],
            "text/html": [
              "<div style=\"max-width:800px; border: 1px solid var(--colab-border-color);\"><style>\n",
              "      pre.function-repr-contents {\n",
              "        overflow-x: auto;\n",
              "        padding: 8px 12px;\n",
              "        max-height: 500px;\n",
              "      }\n",
              "\n",
              "      pre.function-repr-contents.function-repr-contents-collapsed {\n",
              "        cursor: pointer;\n",
              "        max-height: 100px;\n",
              "      }\n",
              "    </style>\n",
              "    <pre style=\"white-space: initial; background:\n",
              "         var(--colab-secondary-surface-color); padding: 8px 12px;\n",
              "         border-bottom: 1px solid var(--colab-border-color);\"><b>matplotlib.pyplot.show</b><br/>def show(*args, **kwargs) -&gt; None</pre><pre class=\"function-repr-contents function-repr-contents-collapsed\" style=\"\"><a class=\"filepath\" style=\"display:none\" href=\"#\">/usr/local/lib/python3.11/dist-packages/matplotlib/pyplot.py</a>Display all open figures.\n",
              "\n",
              "Parameters\n",
              "----------\n",
              "block : bool, optional\n",
              "    Whether to wait for all figures to be closed before returning.\n",
              "\n",
              "    If `True` block and run the GUI main loop until all figure windows\n",
              "    are closed.\n",
              "\n",
              "    If `False` ensure that all figure windows are displayed and return\n",
              "    immediately.  In this case, you are responsible for ensuring\n",
              "    that the event loop is running to have responsive figures.\n",
              "\n",
              "    Defaults to True in non-interactive mode and to False in interactive\n",
              "    mode (see `.pyplot.isinteractive`).\n",
              "\n",
              "See Also\n",
              "--------\n",
              "ion : Enable interactive mode, which shows / updates the figure after\n",
              "      every plotting command, so that calling ``show()`` is not necessary.\n",
              "ioff : Disable interactive mode.\n",
              "savefig : Save the figure to an image file instead of showing it on screen.\n",
              "\n",
              "Notes\n",
              "-----\n",
              "**Saving figures to file and showing a window at the same time**\n",
              "\n",
              "If you want an image file as well as a user interface window, use\n",
              "`.pyplot.savefig` before `.pyplot.show`. At the end of (a blocking)\n",
              "``show()`` the figure is closed and thus unregistered from pyplot. Calling\n",
              "`.pyplot.savefig` afterwards would save a new and thus empty figure. This\n",
              "limitation of command order does not apply if the show is non-blocking or\n",
              "if you keep a reference to the figure and use `.Figure.savefig`.\n",
              "\n",
              "**Auto-show in jupyter notebooks**\n",
              "\n",
              "The jupyter backends (activated via ``%matplotlib inline``,\n",
              "``%matplotlib notebook``, or ``%matplotlib widget``), call ``show()`` at\n",
              "the end of every cell by default. Thus, you usually don&#x27;t have to call it\n",
              "explicitly there.</pre>\n",
              "      <script>\n",
              "      if (google.colab.kernel.accessAllowed && google.colab.files && google.colab.files.view) {\n",
              "        for (const element of document.querySelectorAll('.filepath')) {\n",
              "          element.style.display = 'block'\n",
              "          element.onclick = (event) => {\n",
              "            event.preventDefault();\n",
              "            event.stopPropagation();\n",
              "            google.colab.files.view(element.textContent, 569);\n",
              "          };\n",
              "        }\n",
              "      }\n",
              "      for (const element of document.querySelectorAll('.function-repr-contents')) {\n",
              "        element.onclick = (event) => {\n",
              "          event.preventDefault();\n",
              "          event.stopPropagation();\n",
              "          element.classList.toggle('function-repr-contents-collapsed');\n",
              "        };\n",
              "      }\n",
              "      </script>\n",
              "      </div>"
            ]
          },
          "metadata": {},
          "execution_count": 67
        },
        {
          "output_type": "display_data",
          "data": {
            "text/plain": [
              "<Figure size 640x480 with 1 Axes>"
            ],
            "image/png": "[encoded data removed]"
          },
          "metadata": {}
        }
      ]
    },
    {
      "cell_type": "code",
      "source": [
        "# Check length ratio between Segment (A11, A12) and (A11, B1)\n",
        "a11_i = interior_vertices_name.index(\"A11\")\n",
        "a11 = interior_vertices[a11_i]\n",
        "a12_i = interior_vertices_name.index(\"A12\")\n",
        "a12 = interior_vertices[a12_i]\n",
        "b1_i = interior_vertices_name.index(\"B1\")\n",
        "b1 = interior_vertices[b1_i]\n",
        "\n",
        "dist_a = distance(a11, a12)\n",
        "print(dist_a)\n",
        "dist_b = distance(a11, b1)\n",
        "print(dist_b)\n",
        "\n",
        "print(\"Length ratio between Segment (A11, A12) and (A11, B1):\", dist_a/dist_b)\n"
      ],
      "metadata": {
        "colab": {
          "base_uri": "https://localhost:8080/"
        },
        "id": "JUQWgYBXnOtE",
        "outputId": "5a88d77b-b608-4463-eea6-b80ae4019f33"
      },
      "execution_count": null,
      "outputs": [
        {
          "output_type": "stream",
          "name": "stdout",
          "text": [
            "10.0\n",
            "9.999999999999998\n",
            "Length ratio between Segment (A11, A12) and (A11, B1): 1.0000000000000002\n"
          ]
        }
      ]
    },
    {
      "cell_type": "markdown",
      "source": [
        "# 4: Optimization Algorithm"
      ],
      "metadata": {
        "id": "y7rW5tKjjCqS"
      }
    },
    {
      "cell_type": "markdown",
      "source": [
        "## 4.1: Defining Necessary Functions"
      ],
      "metadata": {
        "id": "uURR_8H-jfFV"
      }
    },
    {
      "cell_type": "code",
      "source": [
        "def optimize_direction(int_pts: list[Point], bdry_pts: list[Point], alpha: np.float64=0.001, niter: int=1000) -> None:\n",
        "  '''\n",
        "  Runs an optimization algorithm the points in int_pts using the direction\n",
        "  descent method. Each iteration will perturb by a scale of alpha; algorithm\n",
        "  will runn niter iterations.\n",
        "  '''\n",
        "\n",
        "  for i in range(niter):\n",
        "    for pt in int_pts:\n",
        "      pt.update_position(pt.x + alpha * pt.imbal[0], pt.y + alpha * pt.imbal[1])\n"
      ],
      "metadata": {
        "id": "mcPXk8_AjUoO"
      },
      "execution_count": null,
      "outputs": []
    },
    {
      "cell_type": "markdown",
      "source": [
        "## 4.2: Algorithm Body"
      ],
      "metadata": {
        "id": "3_d2fUemj3EU"
      }
    },
    {
      "cell_type": "code",
      "source": [
        "optimize_direction(interior_vertices, boundary_vertices, alpha=0.01, niter = 500000)"
      ],
      "metadata": {
        "id": "Hl8pSQfHj64e"
      },
      "execution_count": null,
      "outputs": []
    },
    {
      "cell_type": "code",
      "source": [
        "# Revisualize after iteration\n",
        "\n",
        "plt.clf()\n",
        "plt.close()\n",
        "coords_int = []\n",
        "for i in range(len(interior_vertices)):\n",
        "  coords_int.append((interior_vertices[i].x, interior_vertices[i].y))\n",
        "\n",
        "coords_bound = []\n",
        "for i in range(len(boundary_vertices)):\n",
        "  coords_bound.append((boundary_vertices[i].x, boundary_vertices[i].y))\n",
        "\n",
        "plt.scatter(*zip(*coords_int), s=30, marker=\".\", color=\"purple\")\n",
        "plt.scatter(*zip(*coords_bound), s=30, marker=\".\", color=\"red\")\n",
        "\n",
        "# Might need BFS/DFS to traverse whole graph and draw all edges\n",
        "# Alternative is draw all edges twice (current implementation)\n",
        "\n",
        "for i in range(len(interior_vertices)):\n",
        "  adj_pts = interior_vertices[i].adj\n",
        "  for j in range(len(adj_pts)):\n",
        "    draw_line(interior_vertices[i], adj_pts[j])\n",
        "\n",
        "for i in range(len(boundary_vertices)):\n",
        "  adj_pts = boundary_vertices[i].adj\n",
        "  for j in range(len(adj_pts)):\n",
        "    draw_line(boundary_vertices[i], adj_pts[j])\n",
        "\n",
        "plt.axis('equal')\n",
        "plt.show"
      ],
      "metadata": {
        "colab": {
          "base_uri": "https://localhost:8080/",
          "height": 602
        },
        "id": "YXhzn7Dk03Yd",
        "outputId": "c3c96eb7-1e7a-4648-c808-f6e8f91b3928"
      },
      "execution_count": null,
      "outputs": [
        {
          "output_type": "execute_result",
          "data": {
            "text/plain": [
              "<function matplotlib.pyplot.show(close=None, block=None)>"
            ],
            "text/html": [
              "<div style=\"max-width:800px; border: 1px solid var(--colab-border-color);\"><style>\n",
              "      pre.function-repr-contents {\n",
              "        overflow-x: auto;\n",
              "        padding: 8px 12px;\n",
              "        max-height: 500px;\n",
              "      }\n",
              "\n",
              "      pre.function-repr-contents.function-repr-contents-collapsed {\n",
              "        cursor: pointer;\n",
              "        max-height: 100px;\n",
              "      }\n",
              "    </style>\n",
              "    <pre style=\"white-space: initial; background:\n",
              "         var(--colab-secondary-surface-color); padding: 8px 12px;\n",
              "         border-bottom: 1px solid var(--colab-border-color);\"><b>matplotlib.pyplot.show</b><br/>def show(*args, **kwargs) -&gt; None</pre><pre class=\"function-repr-contents function-repr-contents-collapsed\" style=\"\"><a class=\"filepath\" style=\"display:none\" href=\"#\">/usr/local/lib/python3.11/dist-packages/matplotlib/pyplot.py</a>Display all open figures.\n",
              "\n",
              "Parameters\n",
              "----------\n",
              "block : bool, optional\n",
              "    Whether to wait for all figures to be closed before returning.\n",
              "\n",
              "    If `True` block and run the GUI main loop until all figure windows\n",
              "    are closed.\n",
              "\n",
              "    If `False` ensure that all figure windows are displayed and return\n",
              "    immediately.  In this case, you are responsible for ensuring\n",
              "    that the event loop is running to have responsive figures.\n",
              "\n",
              "    Defaults to True in non-interactive mode and to False in interactive\n",
              "    mode (see `.pyplot.isinteractive`).\n",
              "\n",
              "See Also\n",
              "--------\n",
              "ion : Enable interactive mode, which shows / updates the figure after\n",
              "      every plotting command, so that calling ``show()`` is not necessary.\n",
              "ioff : Disable interactive mode.\n",
              "savefig : Save the figure to an image file instead of showing it on screen.\n",
              "\n",
              "Notes\n",
              "-----\n",
              "**Saving figures to file and showing a window at the same time**\n",
              "\n",
              "If you want an image file as well as a user interface window, use\n",
              "`.pyplot.savefig` before `.pyplot.show`. At the end of (a blocking)\n",
              "``show()`` the figure is closed and thus unregistered from pyplot. Calling\n",
              "`.pyplot.savefig` afterwards would save a new and thus empty figure. This\n",
              "limitation of command order does not apply if the show is non-blocking or\n",
              "if you keep a reference to the figure and use `.Figure.savefig`.\n",
              "\n",
              "**Auto-show in jupyter notebooks**\n",
              "\n",
              "The jupyter backends (activated via ``%matplotlib inline``,\n",
              "``%matplotlib notebook``, or ``%matplotlib widget``), call ``show()`` at\n",
              "the end of every cell by default. Thus, you usually don&#x27;t have to call it\n",
              "explicitly there.</pre>\n",
              "      <script>\n",
              "      if (google.colab.kernel.accessAllowed && google.colab.files && google.colab.files.view) {\n",
              "        for (const element of document.querySelectorAll('.filepath')) {\n",
              "          element.style.display = 'block'\n",
              "          element.onclick = (event) => {\n",
              "            event.preventDefault();\n",
              "            event.stopPropagation();\n",
              "            google.colab.files.view(element.textContent, 569);\n",
              "          };\n",
              "        }\n",
              "      }\n",
              "      for (const element of document.querySelectorAll('.function-repr-contents')) {\n",
              "        element.onclick = (event) => {\n",
              "          event.preventDefault();\n",
              "          event.stopPropagation();\n",
              "          element.classList.toggle('function-repr-contents-collapsed');\n",
              "        };\n",
              "      }\n",
              "      </script>\n",
              "      </div>"
            ]
          },
          "metadata": {},
          "execution_count": 71
        },
        {
          "output_type": "display_data",
          "data": {
            "text/plain": [
              "<Figure size 640x480 with 1 Axes>"
            ],
            "image/png": "[encoded data removed]"
          },
          "metadata": {}
        }
      ]
    },
    {
      "cell_type": "code",
      "source": [
        "i = interior_vertices_name.index(\"B1\")\n",
        "p = interior_vertices[i]\n",
        "print(p.imbal)\n",
        "\n",
        "i = interior_vertices_name.index(\"C1\")\n",
        "p = interior_vertices[i]\n",
        "print(p.imbal)\n",
        "\n",
        "i = interior_vertices_name.index(\"E1\")\n",
        "p = interior_vertices[i]\n",
        "print(p.imbal)\n",
        "\n",
        "i = interior_vertices_name.index(\"A11\")\n",
        "p = interior_vertices[i]\n",
        "print(p.imbal)\n",
        "\n",
        "i = interior_vertices_name.index(\"A12\")\n",
        "p = interior_vertices[i]\n",
        "print(p.imbal)\n",
        "\n",
        "i = interior_vertices_name.index(\"F1\")\n",
        "p = interior_vertices[i]\n",
        "print(p.imbal)\n",
        "# Check imbalance of the representative points"
      ],
      "metadata": {
        "colab": {
          "base_uri": "https://localhost:8080/"
        },
        "id": "fhmKmjDu9Cb4",
        "outputId": "04ad2cad-d1cd-4f1d-eb07-e67fe9102964"
      },
      "execution_count": null,
      "outputs": [
        {
          "output_type": "stream",
          "name": "stdout",
          "text": [
            "(np.float64(-6.221689829999377e-13), np.float64(-6.539213615042172e-13))\n",
            "(np.float64(-6.185052470186747e-13), np.float64(-5.56776846849516e-13))\n",
            "(np.float64(2.19824158875781e-14), np.float64(-2.1316282072803006e-14))\n",
            "(np.float64(3.1934177524561846e-13), np.float64(-8.90065798841988e-13))\n",
            "(np.float64(-3.1243063691732686e-13), np.float64(-8.861800182558e-13))\n",
            "(np.float64(-3.1315292221584094e-14), np.float64(-1.0960121699099545e-12))\n"
          ]
        }
      ]
    },
    {
      "cell_type": "code",
      "source": [
        "# Close_up of B1, C1, E1\n",
        "\n",
        "plt.clf()\n",
        "plt.close()\n",
        "i = interior_vertices_name.index(\"B1\")\n",
        "j = interior_vertices_name.index(\"C1\")\n",
        "k = interior_vertices_name.index(\"E1\")\n",
        "coords_int = []\n",
        "coords_int.append((interior_vertices[i].x, interior_vertices[i].y))\n",
        "adj_pts = interior_vertices[i].adj\n",
        "for i2 in range(len(adj_pts)):\n",
        "  dir = direction(interior_vertices[i], adj_pts[i2])\n",
        "  magnitude = min(1, distance(interior_vertices[i], adj_pts[i2]))\n",
        "  draw_line_dir(interior_vertices[i], dir, magnitude)\n",
        "\n",
        "coords_int.append((interior_vertices[j].x, interior_vertices[j].y))\n",
        "adj_pts = interior_vertices[j].adj\n",
        "for j2 in range(len(adj_pts)):\n",
        "  dir = direction(interior_vertices[j], adj_pts[j2])\n",
        "  magnitude = min(1, distance(interior_vertices[j], adj_pts[j2]))\n",
        "  draw_line_dir(interior_vertices[j], dir, magnitude)\n",
        "\n",
        "coords_int.append((interior_vertices[k].x, interior_vertices[k].y))\n",
        "adj_pts = interior_vertices[k].adj\n",
        "for k2 in range(len(adj_pts)):\n",
        "  dir = direction(interior_vertices[k], adj_pts[k2])\n",
        "  magnitude = min(1, distance(interior_vertices[k], adj_pts[k2]))\n",
        "  draw_line_dir(interior_vertices[k], dir, magnitude)\n",
        "\n",
        "\n",
        "# plt.scatter(*zip(*coords_int), s=100, marker=\"x\", color=\"purple\")\n",
        "\n",
        "# Alternative is draw all edges twice (current implementation)\n",
        "\n",
        "plt.axis('equal')\n",
        "plt.show"
      ],
      "metadata": {
        "colab": {
          "base_uri": "https://localhost:8080/",
          "height": 598
        },
        "id": "S_Cl5h_50425",
        "outputId": "1e9a53e9-2fc9-41c3-83d5-ef19a3534ce0"
      },
      "execution_count": null,
      "outputs": [
        {
          "output_type": "execute_result",
          "data": {
            "text/plain": [
              "<function matplotlib.pyplot.show(close=None, block=None)>"
            ],
            "text/html": [
              "<div style=\"max-width:800px; border: 1px solid var(--colab-border-color);\"><style>\n",
              "      pre.function-repr-contents {\n",
              "        overflow-x: auto;\n",
              "        padding: 8px 12px;\n",
              "        max-height: 500px;\n",
              "      }\n",
              "\n",
              "      pre.function-repr-contents.function-repr-contents-collapsed {\n",
              "        cursor: pointer;\n",
              "        max-height: 100px;\n",
              "      }\n",
              "    </style>\n",
              "    <pre style=\"white-space: initial; background:\n",
              "         var(--colab-secondary-surface-color); padding: 8px 12px;\n",
              "         border-bottom: 1px solid var(--colab-border-color);\"><b>matplotlib.pyplot.show</b><br/>def show(*args, **kwargs) -&gt; None</pre><pre class=\"function-repr-contents function-repr-contents-collapsed\" style=\"\"><a class=\"filepath\" style=\"display:none\" href=\"#\">/usr/local/lib/python3.11/dist-packages/matplotlib/pyplot.py</a>Display all open figures.\n",
              "\n",
              "Parameters\n",
              "----------\n",
              "block : bool, optional\n",
              "    Whether to wait for all figures to be closed before returning.\n",
              "\n",
              "    If `True` block and run the GUI main loop until all figure windows\n",
              "    are closed.\n",
              "\n",
              "    If `False` ensure that all figure windows are displayed and return\n",
              "    immediately.  In this case, you are responsible for ensuring\n",
              "    that the event loop is running to have responsive figures.\n",
              "\n",
              "    Defaults to True in non-interactive mode and to False in interactive\n",
              "    mode (see `.pyplot.isinteractive`).\n",
              "\n",
              "See Also\n",
              "--------\n",
              "ion : Enable interactive mode, which shows / updates the figure after\n",
              "      every plotting command, so that calling ``show()`` is not necessary.\n",
              "ioff : Disable interactive mode.\n",
              "savefig : Save the figure to an image file instead of showing it on screen.\n",
              "\n",
              "Notes\n",
              "-----\n",
              "**Saving figures to file and showing a window at the same time**\n",
              "\n",
              "If you want an image file as well as a user interface window, use\n",
              "`.pyplot.savefig` before `.pyplot.show`. At the end of (a blocking)\n",
              "``show()`` the figure is closed and thus unregistered from pyplot. Calling\n",
              "`.pyplot.savefig` afterwards would save a new and thus empty figure. This\n",
              "limitation of command order does not apply if the show is non-blocking or\n",
              "if you keep a reference to the figure and use `.Figure.savefig`.\n",
              "\n",
              "**Auto-show in jupyter notebooks**\n",
              "\n",
              "The jupyter backends (activated via ``%matplotlib inline``,\n",
              "``%matplotlib notebook``, or ``%matplotlib widget``), call ``show()`` at\n",
              "the end of every cell by default. Thus, you usually don&#x27;t have to call it\n",
              "explicitly there.</pre>\n",
              "      <script>\n",
              "      if (google.colab.kernel.accessAllowed && google.colab.files && google.colab.files.view) {\n",
              "        for (const element of document.querySelectorAll('.filepath')) {\n",
              "          element.style.display = 'block'\n",
              "          element.onclick = (event) => {\n",
              "            event.preventDefault();\n",
              "            event.stopPropagation();\n",
              "            google.colab.files.view(element.textContent, 569);\n",
              "          };\n",
              "        }\n",
              "      }\n",
              "      for (const element of document.querySelectorAll('.function-repr-contents')) {\n",
              "        element.onclick = (event) => {\n",
              "          event.preventDefault();\n",
              "          event.stopPropagation();\n",
              "          element.classList.toggle('function-repr-contents-collapsed');\n",
              "        };\n",
              "      }\n",
              "      </script>\n",
              "      </div>"
            ]
          },
          "metadata": {},
          "execution_count": 73
        },
        {
          "output_type": "display_data",
          "data": {
            "text/plain": [
              "<Figure size 640x480 with 1 Axes>"
            ],
            "image/png": "[encoded data removed]"
          },
          "metadata": {}
        }
      ]
    },
    {
      "cell_type": "code",
      "source": [
        "# Close_up of A11, A12, F1\n",
        "\n",
        "plt.clf()\n",
        "plt.close()\n",
        "i = interior_vertices_name.index(\"A11\")\n",
        "j = interior_vertices_name.index(\"A12\")\n",
        "k = interior_vertices_name.index(\"F1\")\n",
        "coords_int = []\n",
        "coords_int.append((interior_vertices[i].x, interior_vertices[i].y))\n",
        "adj_pts = interior_vertices[i].adj\n",
        "for i2 in range(len(adj_pts)):\n",
        "  dir = direction(interior_vertices[i], adj_pts[i2])\n",
        "  magnitude = min(1, distance(interior_vertices[i], adj_pts[i2]))\n",
        "  draw_line_dir(interior_vertices[i], dir, magnitude)\n",
        "\n",
        "coords_int.append((interior_vertices[j].x, interior_vertices[j].y))\n",
        "adj_pts = interior_vertices[j].adj\n",
        "for j2 in range(len(adj_pts)):\n",
        "  dir = direction(interior_vertices[j], adj_pts[j2])\n",
        "  magnitude = min(1, distance(interior_vertices[j], adj_pts[j2]))\n",
        "  draw_line_dir(interior_vertices[j], dir, magnitude)\n",
        "\n",
        "coords_int.append((interior_vertices[k].x, interior_vertices[k].y))\n",
        "adj_pts = interior_vertices[k].adj\n",
        "for k2 in range(len(adj_pts)):\n",
        "  dir = direction(interior_vertices[k], adj_pts[k2])\n",
        "  magnitude = min(1, distance(interior_vertices[k], adj_pts[k2]))\n",
        "  draw_line_dir(interior_vertices[k], dir, magnitude)\n",
        "\n",
        "\n",
        "# plt.scatter(*zip(*coords_int), s=100, marker=\"x\", color=\"purple\")\n",
        "\n",
        "plt.axis('equal')\n",
        "plt.show"
      ],
      "metadata": {
        "colab": {
          "base_uri": "https://localhost:8080/",
          "height": 602
        },
        "id": "6C1SuhF42HlI",
        "outputId": "74933635-eb29-409f-ac43-bb40bade3b96"
      },
      "execution_count": null,
      "outputs": [
        {
          "output_type": "execute_result",
          "data": {
            "text/plain": [
              "<function matplotlib.pyplot.show(close=None, block=None)>"
            ],
            "text/html": [
              "<div style=\"max-width:800px; border: 1px solid var(--colab-border-color);\"><style>\n",
              "      pre.function-repr-contents {\n",
              "        overflow-x: auto;\n",
              "        padding: 8px 12px;\n",
              "        max-height: 500px;\n",
              "      }\n",
              "\n",
              "      pre.function-repr-contents.function-repr-contents-collapsed {\n",
              "        cursor: pointer;\n",
              "        max-height: 100px;\n",
              "      }\n",
              "    </style>\n",
              "    <pre style=\"white-space: initial; background:\n",
              "         var(--colab-secondary-surface-color); padding: 8px 12px;\n",
              "         border-bottom: 1px solid var(--colab-border-color);\"><b>matplotlib.pyplot.show</b><br/>def show(*args, **kwargs) -&gt; None</pre><pre class=\"function-repr-contents function-repr-contents-collapsed\" style=\"\"><a class=\"filepath\" style=\"display:none\" href=\"#\">/usr/local/lib/python3.11/dist-packages/matplotlib/pyplot.py</a>Display all open figures.\n",
              "\n",
              "Parameters\n",
              "----------\n",
              "block : bool, optional\n",
              "    Whether to wait for all figures to be closed before returning.\n",
              "\n",
              "    If `True` block and run the GUI main loop until all figure windows\n",
              "    are closed.\n",
              "\n",
              "    If `False` ensure that all figure windows are displayed and return\n",
              "    immediately.  In this case, you are responsible for ensuring\n",
              "    that the event loop is running to have responsive figures.\n",
              "\n",
              "    Defaults to True in non-interactive mode and to False in interactive\n",
              "    mode (see `.pyplot.isinteractive`).\n",
              "\n",
              "See Also\n",
              "--------\n",
              "ion : Enable interactive mode, which shows / updates the figure after\n",
              "      every plotting command, so that calling ``show()`` is not necessary.\n",
              "ioff : Disable interactive mode.\n",
              "savefig : Save the figure to an image file instead of showing it on screen.\n",
              "\n",
              "Notes\n",
              "-----\n",
              "**Saving figures to file and showing a window at the same time**\n",
              "\n",
              "If you want an image file as well as a user interface window, use\n",
              "`.pyplot.savefig` before `.pyplot.show`. At the end of (a blocking)\n",
              "``show()`` the figure is closed and thus unregistered from pyplot. Calling\n",
              "`.pyplot.savefig` afterwards would save a new and thus empty figure. This\n",
              "limitation of command order does not apply if the show is non-blocking or\n",
              "if you keep a reference to the figure and use `.Figure.savefig`.\n",
              "\n",
              "**Auto-show in jupyter notebooks**\n",
              "\n",
              "The jupyter backends (activated via ``%matplotlib inline``,\n",
              "``%matplotlib notebook``, or ``%matplotlib widget``), call ``show()`` at\n",
              "the end of every cell by default. Thus, you usually don&#x27;t have to call it\n",
              "explicitly there.</pre>\n",
              "      <script>\n",
              "      if (google.colab.kernel.accessAllowed && google.colab.files && google.colab.files.view) {\n",
              "        for (const element of document.querySelectorAll('.filepath')) {\n",
              "          element.style.display = 'block'\n",
              "          element.onclick = (event) => {\n",
              "            event.preventDefault();\n",
              "            event.stopPropagation();\n",
              "            google.colab.files.view(element.textContent, 569);\n",
              "          };\n",
              "        }\n",
              "      }\n",
              "      for (const element of document.querySelectorAll('.function-repr-contents')) {\n",
              "        element.onclick = (event) => {\n",
              "          event.preventDefault();\n",
              "          event.stopPropagation();\n",
              "          element.classList.toggle('function-repr-contents-collapsed');\n",
              "        };\n",
              "      }\n",
              "      </script>\n",
              "      </div>"
            ]
          },
          "metadata": {},
          "execution_count": 74
        },
        {
          "output_type": "display_data",
          "data": {
            "text/plain": [
              "<Figure size 640x480 with 1 Axes>"
            ],
            "image/png": "[encoded data removed]"
          },
          "metadata": {}
        }
      ]
    },
    {
      "cell_type": "code",
      "source": [
        "# Close_up of A11, A12, B1\n",
        "\n",
        "plt.clf()\n",
        "plt.close()\n",
        "i = interior_vertices_name.index(\"A11\")\n",
        "a11 = interior_vertices[i]\n",
        "j = interior_vertices_name.index(\"A12\")\n",
        "k = interior_vertices_name.index(\"B1\")\n",
        "coords_int = []\n",
        "coords_int.append((interior_vertices[i].x, interior_vertices[i].y))\n",
        "adj_pts = interior_vertices[i].adj\n",
        "for i2 in range(len(adj_pts)):\n",
        "  dir = direction(interior_vertices[i], adj_pts[i2])\n",
        "  magnitude = min(1, distance(interior_vertices[i], adj_pts[i2]))\n",
        "  draw_line_dir(interior_vertices[i], dir, magnitude)\n",
        "\n",
        "coords_int.append((interior_vertices[j].x, interior_vertices[j].y))\n",
        "adj_pts = interior_vertices[j].adj\n",
        "for j2 in range(len(adj_pts)):\n",
        "  dir = direction(interior_vertices[j], adj_pts[j2])\n",
        "  magnitude = min(1, distance(interior_vertices[j], adj_pts[j2]))\n",
        "  draw_line_dir(interior_vertices[j], dir, magnitude)\n",
        "\n",
        "coords_int.append((interior_vertices[k].x, interior_vertices[k].y))\n",
        "adj_pts = interior_vertices[k].adj\n",
        "for k2 in range(len(adj_pts)):\n",
        "  dir = direction(interior_vertices[k], adj_pts[k2])\n",
        "  magnitude = min(1, distance(interior_vertices[k], adj_pts[k2]))\n",
        "  draw_line_dir(interior_vertices[k], dir, magnitude)\n",
        "\n",
        "# plt.scatter(*zip(*coords_int), s=100, marker=\"x\", color=\"purple\")\n",
        "\n",
        "plt.axis('equal')\n",
        "plt.show"
      ],
      "metadata": {
        "colab": {
          "base_uri": "https://localhost:8080/",
          "height": 598
        },
        "id": "79I9-nvxNX6G",
        "outputId": "8732464a-e845-4cbf-e34f-833728895853"
      },
      "execution_count": null,
      "outputs": [
        {
          "output_type": "execute_result",
          "data": {
            "text/plain": [
              "<function matplotlib.pyplot.show(close=None, block=None)>"
            ],
            "text/html": [
              "<div style=\"max-width:800px; border: 1px solid var(--colab-border-color);\"><style>\n",
              "      pre.function-repr-contents {\n",
              "        overflow-x: auto;\n",
              "        padding: 8px 12px;\n",
              "        max-height: 500px;\n",
              "      }\n",
              "\n",
              "      pre.function-repr-contents.function-repr-contents-collapsed {\n",
              "        cursor: pointer;\n",
              "        max-height: 100px;\n",
              "      }\n",
              "    </style>\n",
              "    <pre style=\"white-space: initial; background:\n",
              "         var(--colab-secondary-surface-color); padding: 8px 12px;\n",
              "         border-bottom: 1px solid var(--colab-border-color);\"><b>matplotlib.pyplot.show</b><br/>def show(*args, **kwargs) -&gt; None</pre><pre class=\"function-repr-contents function-repr-contents-collapsed\" style=\"\"><a class=\"filepath\" style=\"display:none\" href=\"#\">/usr/local/lib/python3.11/dist-packages/matplotlib/pyplot.py</a>Display all open figures.\n",
              "\n",
              "Parameters\n",
              "----------\n",
              "block : bool, optional\n",
              "    Whether to wait for all figures to be closed before returning.\n",
              "\n",
              "    If `True` block and run the GUI main loop until all figure windows\n",
              "    are closed.\n",
              "\n",
              "    If `False` ensure that all figure windows are displayed and return\n",
              "    immediately.  In this case, you are responsible for ensuring\n",
              "    that the event loop is running to have responsive figures.\n",
              "\n",
              "    Defaults to True in non-interactive mode and to False in interactive\n",
              "    mode (see `.pyplot.isinteractive`).\n",
              "\n",
              "See Also\n",
              "--------\n",
              "ion : Enable interactive mode, which shows / updates the figure after\n",
              "      every plotting command, so that calling ``show()`` is not necessary.\n",
              "ioff : Disable interactive mode.\n",
              "savefig : Save the figure to an image file instead of showing it on screen.\n",
              "\n",
              "Notes\n",
              "-----\n",
              "**Saving figures to file and showing a window at the same time**\n",
              "\n",
              "If you want an image file as well as a user interface window, use\n",
              "`.pyplot.savefig` before `.pyplot.show`. At the end of (a blocking)\n",
              "``show()`` the figure is closed and thus unregistered from pyplot. Calling\n",
              "`.pyplot.savefig` afterwards would save a new and thus empty figure. This\n",
              "limitation of command order does not apply if the show is non-blocking or\n",
              "if you keep a reference to the figure and use `.Figure.savefig`.\n",
              "\n",
              "**Auto-show in jupyter notebooks**\n",
              "\n",
              "The jupyter backends (activated via ``%matplotlib inline``,\n",
              "``%matplotlib notebook``, or ``%matplotlib widget``), call ``show()`` at\n",
              "the end of every cell by default. Thus, you usually don&#x27;t have to call it\n",
              "explicitly there.</pre>\n",
              "      <script>\n",
              "      if (google.colab.kernel.accessAllowed && google.colab.files && google.colab.files.view) {\n",
              "        for (const element of document.querySelectorAll('.filepath')) {\n",
              "          element.style.display = 'block'\n",
              "          element.onclick = (event) => {\n",
              "            event.preventDefault();\n",
              "            event.stopPropagation();\n",
              "            google.colab.files.view(element.textContent, 569);\n",
              "          };\n",
              "        }\n",
              "      }\n",
              "      for (const element of document.querySelectorAll('.function-repr-contents')) {\n",
              "        element.onclick = (event) => {\n",
              "          event.preventDefault();\n",
              "          event.stopPropagation();\n",
              "          element.classList.toggle('function-repr-contents-collapsed');\n",
              "        };\n",
              "      }\n",
              "      </script>\n",
              "      </div>"
            ]
          },
          "metadata": {},
          "execution_count": 75
        },
        {
          "output_type": "display_data",
          "data": {
            "text/plain": [
              "<Figure size 640x480 with 1 Axes>"
            ],
            "image/png": "[encoded data removed]"
          },
          "metadata": {}
        }
      ]
    },
    {
      "cell_type": "code",
      "source": [
        "# Output all points centered at P\n",
        "\n",
        "p_i = interior_vertices_name.index(\"P\")\n",
        "p = interior_vertices[p_i]\n",
        "\n",
        "print(\"Interior Vertices:\")\n",
        "for i in range(len(interior_vertices)):\n",
        "  print(interior_vertices_name[i], \" has coordinate (\"\n",
        "        + str(interior_vertices[i].x - p.x)\n",
        "        + \", \" + str(interior_vertices[i].y - p.y) + \"), with imbalance of (\"\n",
        "        + str(interior_vertices[i].imbal[0])\n",
        "        + \", \" + str(interior_vertices[i].imbal[1]) + \")\")\n",
        "\n",
        "print(\"\\nBoundary Vertices:\")\n",
        "for i in range(len(boundary_vertices)):\n",
        "  print(boundary_vertices_name[i], \" has coordinate (\"\n",
        "        + str(boundary_vertices[i].x - p.x)\n",
        "        + \", \" + str(boundary_vertices[i].y - p.y)\n",
        "        + \")\")"
      ],
      "metadata": {
        "colab": {
          "base_uri": "https://localhost:8080/"
        },
        "id": "H-VV-Q-_Were",
        "outputId": "c4252fe3-7870-47da-f7bb-3eda8a1ec5b6"
      },
      "execution_count": null,
      "outputs": [
        {
          "output_type": "stream",
          "name": "stdout",
          "text": [
            "Interior Vertices:\n",
            "A12  has coordinate (4.140657919009092, -17.604122768166796), with imbalance of (-3.1243063691732686e-13, -8.861800182558e-13)\n",
            "A11  has coordinate (-4.140657919008898, -17.604122768167056), with imbalance of (3.1934177524561846e-13, -8.90065798841988e-13)\n",
            "B1  has coordinate (-14.75895787103098, -14.758957871025405), with imbalance of (-6.221689829999377e-13, -6.539213615042172e-13)\n",
            "A42  has coordinate (-17.60412276817126, -4.140657919008653), with imbalance of (-9.273692924693933e-13, 2.945282906452462e-13)\n",
            "A41  has coordinate (-17.604122768172843, 4.140657919014707), with imbalance of (-9.534595335480844e-13, -3.528566328014904e-13)\n",
            "B4  has coordinate (-14.758957871034044, 14.758957871023615), with imbalance of (-6.221689829999377e-13, 8.408829188510936e-13)\n",
            "A32  has coordinate (-4.140657919007883, 17.604122768167475), with imbalance of (2.9032332093947844e-13, 1.063371612985975e-12)\n",
            "A31  has coordinate (4.140657919010703, 17.60412276816859), with imbalance of (-2.6585678103430155e-13, 1.0647038806155251e-12)\n",
            "B3  has coordinate (14.758957871022497, 14.758957871029128), with imbalance of (6.777911565336581e-13, 9.18931597482242e-13)\n",
            "A22  has coordinate (17.6041227681645, 4.140657919014956), with imbalance of (8.877343304902752e-13, -3.280015148376947e-13)\n",
            "A21  has coordinate (17.60412276816497, -4.140657919009161), with imbalance of (8.879563750952002e-13, 2.6689761511988763e-13)\n",
            "B2  has coordinate (14.758957871025144, -14.75895787102576), with imbalance of (6.623590564913684e-13, -6.783462680459706e-13)\n",
            "P  has coordinate (0.0, 0.0), with imbalance of (4.418687638008123e-14, 1.7236777545406786e-13)\n",
            "F1  has coordinate (3.801403636316536e-13, -15.213512804001434), with imbalance of (-3.1315292221584094e-14, -1.0960121699099545e-12)\n",
            "F2  has coordinate (15.213512803997007, 2.568611989772762e-12), with imbalance of (1.2425616091604752e-12, -9.16770340822696e-14)\n",
            "F3  has coordinate (2.913225216616411e-13, 15.213512804002459), with imbalance of (-3.161720412313253e-15, 1.0675904604795505e-12)\n",
            "F4  has coordinate (-15.213512804004823, 5.3290705182007514e-14), with imbalance of (-1.1541878564003127e-12, 1.6391877870489205e-13)\n",
            "C1  has coordinate (-14.948102390293563, -14.948102390287998), with imbalance of (-6.185052470186747e-13, -5.56776846849516e-13)\n",
            "C2  has coordinate (14.94810239028873, -14.948102390289327), with imbalance of (5.314637618880624e-13, -5.445643935786393e-13)\n",
            "C3  has coordinate (14.94810239028815, 14.948102390294881), with imbalance of (5.401235014801387e-13, 3.5560443478743764e-13)\n",
            "C4  has coordinate (-14.948102390298557, 14.94810239028818), with imbalance of (-6.177280909014371e-13, 3.5227376571356217e-13)\n",
            "E1  has coordinate (-16.01260914786606, -16.012609147860438), with imbalance of (2.19824158875781e-14, -2.1316282072803006e-14)\n",
            "E2  has coordinate (16.012609147866037, -16.012609147866492), with imbalance of (-8.071321389024888e-14, 3.397282455352979e-14)\n",
            "E3  has coordinate (16.012609147869334, 16.01260914787657), with imbalance of (9.492406860545088e-14, -2.65898414397725e-13)\n",
            "E4  has coordinate (-16.012609147869526, 16.012609147858758), with imbalance of (8.926193117986259e-14, 3.090860900556436e-13)\n",
            "\n",
            "Boundary Vertices:\n",
            "D1  has coordinate (5.666578317686799e-13, -75.77248004943966)\n",
            "D2  has coordinate (75.77248004944637, 5.325517804521951e-12)\n",
            "D3  has coordinate (8.490985692333197e-13, 75.77248004945122)\n",
            "D4  has coordinate (-75.77248004944497, 5.4924953474255744e-12)\n"
          ]
        }
      ]
    },
    {
      "cell_type": "markdown",
      "source": [
        "# 5: Deriving Properties"
      ],
      "metadata": {
        "id": "39HkjxkBcp51"
      }
    },
    {
      "cell_type": "markdown",
      "source": [
        "Using our optimization algorithm, we can be almost certain that a geodesic net with 4 boundary vertices and 25 balanced vertices exists. Now we need to derive key properties in order to find the analytical solution"
      ],
      "metadata": {
        "id": "NHUQH0-XcHts"
      }
    },
    {
      "cell_type": "code",
      "source": [
        "# Check angle around P\n",
        "print(\"Interior Vertices angle around P:\")\n",
        "for i in range(len(interior_vertices)):\n",
        "  arctan_value = radians_to_degrees(np.arctan2(interior_vertices[i].y - p.y, interior_vertices[i].x - p.x))\n",
        "  print(interior_vertices_name[i], \" has angle \"\n",
        "        + str(arctan_value))"
      ],
      "metadata": {
        "colab": {
          "base_uri": "https://localhost:8080/"
        },
        "id": "HtPl-Rnycoaw",
        "outputId": "75b4b211-0839-4222-a290-3b01d95e4e69"
      },
      "execution_count": null,
      "outputs": [
        {
          "output_type": "stream",
          "name": "stdout",
          "text": [
            "Interior Vertices angle around P:\n",
            "A12  has angle -76.76407097316103\n",
            "A11  has angle -103.23592902683819\n",
            "B1  has angle -135.0000000000108\n",
            "A42  has angle -166.76407097316564\n",
            "A41  has angle 166.7640709731481\n",
            "B4  has angle 135.00000000002026\n",
            "A32  has angle 103.23592902683475\n",
            "A31  has angle 76.76407097315736\n",
            "B3  has angle 45.000000000012875\n",
            "A22  has angle 13.23592902685872\n",
            "A21  has angle -13.235929026840509\n",
            "B2  has angle -45.000000000001194\n",
            "P  has angle 0.0\n",
            "F1  has angle -89.99999999999858\n",
            "F2  has angle 9.67367813842534e-12\n",
            "F3  has angle 89.99999999999889\n",
            "F4  has angle 179.9999999999998\n",
            "C1  has angle -135.00000000001066\n",
            "C2  has angle -45.000000000001144\n",
            "C3  has angle 45.0000000000129\n",
            "C4  has angle 135.0000000000199\n",
            "E1  has angle -135.00000000001006\n",
            "E2  has angle -45.00000000000082\n",
            "E3  has angle 45.000000000012946\n",
            "E4  has angle 135.00000000001927\n"
          ]
        }
      ]
    },
    {
      "cell_type": "code",
      "source": [
        "# Check angle around A11\n",
        "a11_i = interior_vertices_name.index(\"A11\")\n",
        "a11 = interior_vertices[a11_i]\n",
        "\n",
        "print(\"Interior Vertices angle around A11:\")\n",
        "for i in range(len(interior_vertices)):\n",
        "  arctan_value = radians_to_degrees(np.arctan2(interior_vertices[i].y - a11.y, interior_vertices[i].x - a11.x))\n",
        "  print(interior_vertices_name[i], \" has angle \"\n",
        "        + str(arctan_value))"
      ],
      "metadata": {
        "colab": {
          "base_uri": "https://localhost:8080/"
        },
        "id": "OPS5ddcElXfO",
        "outputId": "afa91160-13b8-49b9-a824-467d0de37438"
      },
      "execution_count": null,
      "outputs": [
        {
          "output_type": "stream",
          "name": "stdout",
          "text": [
            "Interior Vertices angle around A11:\n",
            "A12  has angle 1.7843610048347243e-12\n",
            "A11  has angle 0.0\n",
            "B1  has angle 164.99999999997027\n",
            "A42  has angle 135.0000000000084\n",
            "A41  has angle 121.76407097316599\n",
            "B4  has angle 108.16462051030003\n",
            "A32  has angle 89.99999999999834\n",
            "A31  has angle 76.76407097315959\n",
            "B3  has angle 59.715630480902654\n",
            "A22  has angle 45.00000000001135\n",
            "A21  has angle 31.76407097316377\n",
            "B2  has angle 8.561071718656668\n",
            "P  has angle 76.76407097316182\n",
            "F1  has angle 30.0000000000359\n",
            "F2  has angle 42.288957076029675\n",
            "F3  has angle 82.80889076649886\n",
            "F4  has angle 122.16957023967771\n",
            "C1  has angle 166.1927133812596\n",
            "C2  has angle 7.921307776119762\n",
            "C3  has angle 59.612462876453\n",
            "C4  has angle 108.36633401090573\n",
            "E1  has angle 172.3646432500046\n",
            "E2  has angle 4.515305710792781\n",
            "E3  has angle 59.05726724845141\n",
            "E4  has angle 109.45098015922109\n"
          ]
        }
      ]
    },
    {
      "cell_type": "code",
      "source": [
        "# Check length ratio between Segment (A11, A12) and (A11, B1)\n",
        "a11_i = interior_vertices_name.index(\"A11\")\n",
        "a11 = interior_vertices[a11_i]\n",
        "a12_i = interior_vertices_name.index(\"A12\")\n",
        "a12 = interior_vertices[a12_i]\n",
        "b1_i = interior_vertices_name.index(\"B1\")\n",
        "b1 = interior_vertices[b1_i]\n",
        "\n",
        "dist_a = distance(a11, a12)\n",
        "print(dist_a)\n",
        "dist_b = distance(a11, b1)\n",
        "print(dist_b)\n",
        "\n",
        "print(\"Length ratio between Segment (A11, A12) and (A11, B1):\", dist_a/dist_b)"
      ],
      "metadata": {
        "colab": {
          "base_uri": "https://localhost:8080/"
        },
        "id": "TyW0iM0WmA0P",
        "outputId": "0732410f-083f-4279-9205-4c8a74f00114"
      },
      "execution_count": null,
      "outputs": [
        {
          "output_type": "stream",
          "name": "stdout",
          "text": [
            "8.28131583801799\n",
            "10.992873016779516\n",
            "Length ratio between Segment (A11, A12) and (A11, B1): 0.7533349858019277\n"
          ]
        }
      ]
    },
    {
      "cell_type": "code",
      "source": [
        "# Check angle around C1\n",
        "c1_i = interior_vertices_name.index(\"C1\")\n",
        "c1 = interior_vertices[c1_i]\n",
        "\n",
        "print(\"Interior Vertices angle around C1:\")\n",
        "for i in range(len(interior_vertices)):\n",
        "  arctan_value = radians_to_degrees(np.arctan2(interior_vertices[i].y - c1.y, interior_vertices[i].x - c1.x))\n",
        "  print(interior_vertices_name[i], \" has angle \"\n",
        "        + str(arctan_value))\n",
        "\n",
        "print(\"\\nBoundary Vertices angle around C1:\")\n",
        "for i in range(len(boundary_vertices)):\n",
        "  arctan_value = radians_to_degrees(np.arctan2(boundary_vertices[i].y - c1.y, boundary_vertices[i].x - c1.x))\n",
        "  print(boundary_vertices_name[i], \" has angle \"\n",
        "        + str(arctan_value))"
      ],
      "metadata": {
        "colab": {
          "base_uri": "https://localhost:8080/"
        },
        "id": "dWxYxVXdpStX",
        "outputId": "26c19830-7269-4fe8-bc60-ec07fde840fd"
      },
      "execution_count": null,
      "outputs": [
        {
          "output_type": "stream",
          "name": "stdout",
          "text": [
            "Interior Vertices angle around C1:\n",
            "A12  has angle -7.921307776120852\n",
            "A11  has angle -13.807286618740381\n",
            "B1  has angle 45.000000000001414\n",
            "A42  has angle 103.80728661874011\n",
            "A41  has angle 97.92130777612226\n",
            "B4  has angle 89.63520334430173\n",
            "A32  has angle 71.63366598910069\n",
            "A31  has angle 59.612462876439444\n",
            "B3  has angle 45.00000000000103\n",
            "A22  has angle 30.38753712355771\n",
            "A21  has angle 18.36633401088685\n",
            "B2  has angle 0.3647966557034261\n",
            "P  has angle 44.999999999989335\n",
            "F1  has angle -1.017205958751461\n",
            "F2  has angle 26.363024283692756\n",
            "F3  has angle 63.636975716302146\n",
            "F4  has angle 91.01720595874353\n",
            "C1  has angle 0.0\n",
            "C2  has angle -2.5456178460313827e-12\n",
            "C3  has angle 45.00000000000112\n",
            "C4  has angle 90.00000000000958\n",
            "E1  has angle -135.00000000000148\n",
            "E2  has angle -1.969196589706095\n",
            "E3  has angle 45.00000000000155\n",
            "E4  has angle 91.96919658970224\n",
            "\n",
            "Boundary Vertices angle around C1:\n",
            "D1  has angle -76.19271338128733\n",
            "D2  has angle 9.356600140579863\n",
            "D3  has angle 80.6433998594194\n",
            "D4  has angle 166.19271338128786\n"
          ]
        }
      ]
    },
    {
      "cell_type": "code",
      "source": [
        "c1_i = interior_vertices_name.index(\"C1\")\n",
        "c1 = interior_vertices[c1_i]\n",
        "e1_i = interior_vertices_name.index(\"E1\")\n",
        "e1 = interior_vertices[e1_i]\n",
        "b1_i = interior_vertices_name.index(\"B1\")\n",
        "b1 = interior_vertices[b1_i]\n",
        "p_i = interior_vertices_name.index(\"P\")\n",
        "p = interior_vertices[p_i]\n",
        "\n",
        "dist_a = distance(c1, b1)\n",
        "print(dist_a)\n",
        "dist_b = distance(e1, c1)\n",
        "print(dist_b)\n",
        "dist_c = distance(b1, p)\n",
        "print(dist_c)\n",
        "\n",
        "print(\"Length ratio between Segment (C1, B1) and (C1, E1):\", dist_a/dist_b)\n",
        "print(\"Length ratio between Segment (C1, B1) and (B1, P):\", dist_a/dist_c)\n",
        "\n",
        "# Notice that the interior dodecagon preserves the angle property and has equal\n",
        "# side length. This proves that a perturbation of parameter t is needed for\n",
        "# the final net."
      ],
      "metadata": {
        "colab": {
          "base_uri": "https://localhost:8080/"
        },
        "id": "0A7QV3BJq-R2",
        "outputId": "1fb18582-9bf6-4ef2-fef3-9474e5d6ff90"
      },
      "execution_count": null,
      "outputs": [
        {
          "output_type": "stream",
          "name": "stdout",
          "text": [
            "0.2674907443896917\n",
            "1.505439893796792\n",
            "20.87231838770121\n",
            "Length ratio between Segment (C1, B1) and (C1, E1): 0.17768277929387613\n",
            "Length ratio between Segment (C1, B1) and (B1, P): 0.012815574169628793\n"
          ]
        }
      ]
    },
    {
      "cell_type": "code",
      "source": [
        "# Check angle around D1\n",
        "d1_i = boundary_vertices_name.index(\"D1\")\n",
        "d1 = boundary_vertices[d1_i]\n",
        "\n",
        "print(\"Interior Vertices angle around D1:\")\n",
        "for i in range(len(interior_vertices)):\n",
        "  arctan_value = radians_to_degrees(np.arctan2(interior_vertices[i].y - d1.y, interior_vertices[i].x - d1.x))\n",
        "  print(interior_vertices_name[i], \" has angle \"\n",
        "        + str(arctan_value))\n",
        "\n",
        "print(\"\\nBoundary Vertices angle around D1:\")\n",
        "for i in range(len(boundary_vertices)):\n",
        "  arctan_value = radians_to_degrees(np.arctan2(boundary_vertices[i].y - d1.y, boundary_vertices[i].x - d1.x))\n",
        "  print(boundary_vertices_name[i], \" has angle \"\n",
        "        + str(arctan_value))"
      ],
      "metadata": {
        "colab": {
          "base_uri": "https://localhost:8080/"
        },
        "id": "irOzaG56nYwq",
        "outputId": "ef409d1d-0f04-4c10-af15-0341a944ccb9"
      },
      "execution_count": null,
      "outputs": [
        {
          "output_type": "stream",
          "name": "stdout",
          "text": [
            "Interior Vertices angle around D1:\n",
            "A12  has angle 85.92832369832814\n",
            "A11  has angle 94.07167630167282\n",
            "B1  has angle 103.59843275454753\n",
            "A42  has angle 103.80728661871682\n",
            "A41  has angle 102.42330565156492\n",
            "B4  has angle 99.25923349794846\n",
            "A32  has angle 92.53903973991575\n",
            "A31  has angle 87.46096026008327\n",
            "B3  has angle 80.74076650205993\n",
            "A22  has angle 77.57669434844159\n",
            "A21  has angle 76.1927133812887\n",
            "B2  has angle 76.40156724545857\n",
            "P  has angle 90.00000000000044\n",
            "F1  has angle 90.00000000000018\n",
            "F2  has angle 78.64716446493487\n",
            "F3  has angle 90.00000000000018\n",
            "F4  has angle 101.352835535072\n",
            "C1  has angle 103.80728661871267\n",
            "C2  has angle 76.19271338129235\n",
            "C3  has angle 80.64339985942313\n",
            "C4  has angle 99.35660014058465\n",
            "E1  has angle 105.0000000000003\n",
            "E2  has angle 74.99999999999929\n",
            "E3  has angle 80.10390936101608\n",
            "E4  has angle 99.89609063898662\n",
            "\n",
            "Boundary Vertices angle around D1:\n",
            "D1  has angle 0.0\n",
            "D2  has angle 44.99999999999969\n",
            "D3  has angle 89.9999999999999\n",
            "D4  has angle 135.00000000000017\n"
          ]
        }
      ]
    },
    {
      "cell_type": "markdown",
      "source": [
        "# 6: Solving for Exact Values"
      ],
      "metadata": {
        "id": "3mRGJ9-ABbtz"
      }
    },
    {
      "cell_type": "code",
      "source": [
        "# Finding expression for 2 unknown angles at A11\n",
        "a, b = symbols('a b')\n",
        "eq1 = Eq(cos(a) + cos(b) + 1 + cos(-pi / 6) + cos(pi * 13/12), 0)\n",
        "eq2 = Eq(sin(a) + sin(b) + sin(-pi / 6) + sin(pi * 13/12), 0)\n",
        "sol_angle = solve((eq1, eq2), (a, b))\n",
        "print(sol_angle)"
      ],
      "metadata": {
        "colab": {
          "base_uri": "https://localhost:8080/"
        },
        "id": "LYO4EAOHBxt8",
        "outputId": "9d6667d7-ee9b-4566-e266-c7e6d7757868"
      },
      "execution_count": null,
      "outputs": [
        {
          "output_type": "stream",
          "name": "stdout",
          "text": [
            "[(pi - asin(sin(2*atan(-sqrt(2)*sqrt(-5*sqrt(3) - 6 + 6*sqrt(2) + 4*sqrt(6)) - sqrt(-5*sqrt(3) - 6 + 6*sqrt(2) + 4*sqrt(6)) + sqrt(2)/2 + sqrt(6)/2 + sqrt(3))) - sqrt(2)/4 + 1/2 + sqrt(6)/4), -2*atan(-sqrt(2)*sqrt(-5*sqrt(3) - 6 + 6*sqrt(2) + 4*sqrt(6)) - sqrt(-5*sqrt(3) - 6 + 6*sqrt(2) + 4*sqrt(6)) + sqrt(2)/2 + sqrt(6)/2 + sqrt(3))), (asin(-sqrt(2)/4 + sin(2*atan(sqrt(2)/2 + sqrt(6)/2 + sqrt(3) + sqrt(-5*sqrt(3) - 6 + 6*sqrt(2) + 4*sqrt(6)) + sqrt(2)*sqrt(-5*sqrt(3) - 6 + 6*sqrt(2) + 4*sqrt(6)))) + 1/2 + sqrt(6)/4), -2*atan(sqrt(2)/2 + sqrt(6)/2 + sqrt(3) + sqrt(-5*sqrt(3) - 6 + 6*sqrt(2) + 4*sqrt(6)) + sqrt(2)*sqrt(-5*sqrt(3) - 6 + 6*sqrt(2) + 4*sqrt(6))))]\n"
          ]
        }
      ]
    },
    {
      "cell_type": "code",
      "source": [
        "print(\"Exact Values:\")\n",
        "print(\"a =\", sol_angle[0][0])\n",
        "print(\"b =\", sol_angle[1][0])\n",
        "\n",
        "print(\"\\nNumerical Values (Radians):\")\n",
        "print(\"a =\", sol_angle[0][0].evalf())\n",
        "print(\"b =\", sol_angle[1][0].evalf())\n",
        "\n",
        "print(\"\\nNumerical Values (Degrees):\")\n",
        "print(\"a =\", (sol_angle[0][0] / pi * 180).evalf())\n",
        "print(\"b =\", (sol_angle[1][0] / pi * 180).evalf())"
      ],
      "metadata": {
        "colab": {
          "base_uri": "https://localhost:8080/"
        },
        "id": "lVo8qZ98Dc0S",
        "outputId": "83b609f1-36b0-4951-c22f-6919165d8e12"
      },
      "execution_count": null,
      "outputs": [
        {
          "output_type": "stream",
          "name": "stdout",
          "text": [
            "Exact Values:\n",
            "a = pi - asin(sin(2*atan(-sqrt(2)*sqrt(-5*sqrt(3) - 6 + 6*sqrt(2) + 4*sqrt(6)) - sqrt(-5*sqrt(3) - 6 + 6*sqrt(2) + 4*sqrt(6)) + sqrt(2)/2 + sqrt(6)/2 + sqrt(3))) - sqrt(2)/4 + 1/2 + sqrt(6)/4)\n",
            "b = asin(-sqrt(2)/4 + sin(2*atan(sqrt(2)/2 + sqrt(6)/2 + sqrt(3) + sqrt(-5*sqrt(3) - 6 + 6*sqrt(2) + 4*sqrt(6)) + sqrt(2)*sqrt(-5*sqrt(3) - 6 + 6*sqrt(2) + 4*sqrt(6)))) + 1/2 + sqrt(6)/4)\n",
            "\n",
            "Numerical Values (Radians):\n",
            "a = 3.38257526585547\n",
            "b = 1.49973216925628\n",
            "\n",
            "Numerical Values (Degrees):\n",
            "a = 193.807286618861\n",
            "b = 85.9283236983847\n"
          ]
        }
      ]
    },
    {
      "cell_type": "code",
      "source": [
        "# Given angles a and b, we can derive an expression for the ratio between the\n",
        "# length of segment (A11, A12) and (A11, B1).\n",
        "\n",
        "alpha = sol_angle[0][0]\n",
        "beta = sol_angle[1][0]\n",
        "\n",
        "x = symbols('x')\n",
        "eq3 = Eq((1 - cot(3 * pi / 2 - alpha)) / (1 - cot(beta)),\n",
        "        (sqrt(6) * (1 - cot(3 * pi / 2 - alpha)) + x) / (sqrt(6) + x))\n",
        "sol_line = solve(eq3, x)\n",
        "print(sol_line)\n"
      ],
      "metadata": {
        "colab": {
          "base_uri": "https://localhost:8080/"
        },
        "id": "ykljW4J9NhwC",
        "outputId": "c81a9bc3-451e-401f-ac58-cded30cc3f9b"
      },
      "execution_count": null,
      "outputs": [
        {
          "output_type": "stream",
          "name": "stdout",
          "text": [
            "[3*sqrt(-10*sqrt(-5*sqrt(3) - 6 + 6*sqrt(2) + 4*sqrt(6)) - 7*sqrt(2)*sqrt(-5*sqrt(3) - 6 + 6*sqrt(2) + 4*sqrt(6)) - 6*sqrt(6) - 4*sqrt(3) + 6*sqrt(2) + 6*sqrt(3)*sqrt(-5*sqrt(3) - 6 + 6*sqrt(2) + 4*sqrt(6)) + 20 + 5*sqrt(6)*sqrt(-5*sqrt(3) - 6 + 6*sqrt(2) + 4*sqrt(6)))*(-37002394*sqrt(-5*sqrt(6)*sqrt(-5*sqrt(3) - 6 + 6*sqrt(2) + 4*sqrt(6)) - 6*sqrt(3)*sqrt(-5*sqrt(3) - 6 + 6*sqrt(2) + 4*sqrt(6)) - 6*sqrt(6) - 4*sqrt(3) + 6*sqrt(2) + 7*sqrt(2)*sqrt(-5*sqrt(3) - 6 + 6*sqrt(2) + 4*sqrt(6)) + 10*sqrt(-5*sqrt(3) - 6 + 6*sqrt(2) + 4*sqrt(6)) + 20) - 26164643*sqrt(2)*sqrt(-5*sqrt(6)*sqrt(-5*sqrt(3) - 6 + 6*sqrt(2) + 4*sqrt(6)) - 6*sqrt(3)*sqrt(-5*sqrt(3) - 6 + 6*sqrt(2) + 4*sqrt(6)) - 6*sqrt(6) - 4*sqrt(3) + 6*sqrt(2) + 7*sqrt(2)*sqrt(-5*sqrt(3) - 6 + 6*sqrt(2) + 4*sqrt(6)) + 10*sqrt(-5*sqrt(3) - 6 + 6*sqrt(2) + 4*sqrt(6)) + 20) - 21357574*sqrt(3)*sqrt(-5*sqrt(6)*sqrt(-5*sqrt(3) - 6 + 6*sqrt(2) + 4*sqrt(6)) - 6*sqrt(3)*sqrt(-5*sqrt(3) - 6 + 6*sqrt(2) + 4*sqrt(6)) - 6*sqrt(6) - 4*sqrt(3) + 6*sqrt(2) + 7*sqrt(2)*sqrt(-5*sqrt(3) - 6 + 6*sqrt(2) + 4*sqrt(6)) + 10*sqrt(-5*sqrt(3) - 6 + 6*sqrt(2) + 4*sqrt(6)) + 20) - 15102085*sqrt(6)*sqrt(-5*sqrt(6)*sqrt(-5*sqrt(3) - 6 + 6*sqrt(2) + 4*sqrt(6)) - 6*sqrt(3)*sqrt(-5*sqrt(3) - 6 + 6*sqrt(2) + 4*sqrt(6)) - 6*sqrt(6) - 4*sqrt(3) + 6*sqrt(2) + 7*sqrt(2)*sqrt(-5*sqrt(3) - 6 + 6*sqrt(2) + 4*sqrt(6)) + 10*sqrt(-5*sqrt(3) - 6 + 6*sqrt(2) + 4*sqrt(6)) + 20) - 5301964*sqrt(3) - 3749054*sqrt(6) - 9120692 - 6449302*sqrt(2) + 2760448*sqrt(3)*sqrt(-5*sqrt(3) - 6 + 6*sqrt(2) + 4*sqrt(6)) + 1951932*sqrt(6)*sqrt(-5*sqrt(3) - 6 + 6*sqrt(2) + 4*sqrt(6)) + 4835144*sqrt(-5*sqrt(3) - 6 + 6*sqrt(2) + 4*sqrt(6)) + 3418964*sqrt(2)*sqrt(-5*sqrt(3) - 6 + 6*sqrt(2) + 4*sqrt(6)) + 13741264*sqrt(2)*sqrt(-5*sqrt(3) - 6 + 6*sqrt(2) + 4*sqrt(6))*sqrt(-5*sqrt(6)*sqrt(-5*sqrt(3) - 6 + 6*sqrt(2) + 4*sqrt(6)) - 6*sqrt(3)*sqrt(-5*sqrt(3) - 6 + 6*sqrt(2) + 4*sqrt(6)) - 6*sqrt(6) - 4*sqrt(3) + 6*sqrt(2) + 7*sqrt(2)*sqrt(-5*sqrt(3) - 6 + 6*sqrt(2) + 4*sqrt(6)) + 10*sqrt(-5*sqrt(3) - 6 + 6*sqrt(2) + 4*sqrt(6)) + 20) + 19433082*sqrt(-5*sqrt(3) - 6 + 6*sqrt(2) + 4*sqrt(6))*sqrt(-5*sqrt(6)*sqrt(-5*sqrt(3) - 6 + 6*sqrt(2) + 4*sqrt(6)) - 6*sqrt(3)*sqrt(-5*sqrt(3) - 6 + 6*sqrt(2) + 4*sqrt(6)) - 6*sqrt(6) - 4*sqrt(3) + 6*sqrt(2) + 7*sqrt(2)*sqrt(-5*sqrt(3) - 6 + 6*sqrt(2) + 4*sqrt(6)) + 10*sqrt(-5*sqrt(3) - 6 + 6*sqrt(2) + 4*sqrt(6)) + 20) + 7937036*sqrt(6)*sqrt(-5*sqrt(3) - 6 + 6*sqrt(2) + 4*sqrt(6))*sqrt(-5*sqrt(6)*sqrt(-5*sqrt(3) - 6 + 6*sqrt(2) + 4*sqrt(6)) - 6*sqrt(3)*sqrt(-5*sqrt(3) - 6 + 6*sqrt(2) + 4*sqrt(6)) - 6*sqrt(6) - 4*sqrt(3) + 6*sqrt(2) + 7*sqrt(2)*sqrt(-5*sqrt(3) - 6 + 6*sqrt(2) + 4*sqrt(6)) + 10*sqrt(-5*sqrt(3) - 6 + 6*sqrt(2) + 4*sqrt(6)) + 20) + 11224664*sqrt(3)*sqrt(-5*sqrt(3) - 6 + 6*sqrt(2) + 4*sqrt(6))*sqrt(-5*sqrt(6)*sqrt(-5*sqrt(3) - 6 + 6*sqrt(2) + 4*sqrt(6)) - 6*sqrt(3)*sqrt(-5*sqrt(3) - 6 + 6*sqrt(2) + 4*sqrt(6)) - 6*sqrt(6) - 4*sqrt(3) + 6*sqrt(2) + 7*sqrt(2)*sqrt(-5*sqrt(3) - 6 + 6*sqrt(2) + 4*sqrt(6)) + 10*sqrt(-5*sqrt(3) - 6 + 6*sqrt(2) + 4*sqrt(6)) + 20))/(2*(-1709482*sqrt(3)*sqrt(-5*sqrt(3) - 6 + 6*sqrt(2) + 4*sqrt(6))*sqrt(-10*sqrt(-5*sqrt(3) - 6 + 6*sqrt(2) + 4*sqrt(6)) - 7*sqrt(2)*sqrt(-5*sqrt(3) - 6 + 6*sqrt(2) + 4*sqrt(6)) - 6*sqrt(6) - 4*sqrt(3) + 6*sqrt(2) + 6*sqrt(3)*sqrt(-5*sqrt(3) - 6 + 6*sqrt(2) + 4*sqrt(6)) + 20 + 5*sqrt(6)*sqrt(-5*sqrt(3) - 6 + 6*sqrt(2) + 4*sqrt(6))) - 1208786*sqrt(6)*sqrt(-5*sqrt(3) - 6 + 6*sqrt(2) + 4*sqrt(6))*sqrt(-10*sqrt(-5*sqrt(3) - 6 + 6*sqrt(2) + 4*sqrt(6)) - 7*sqrt(2)*sqrt(-5*sqrt(3) - 6 + 6*sqrt(2) + 4*sqrt(6)) - 6*sqrt(6) - 4*sqrt(3) + 6*sqrt(2) + 6*sqrt(3)*sqrt(-5*sqrt(3) - 6 + 6*sqrt(2) + 4*sqrt(6)) + 20 + 5*sqrt(6)*sqrt(-5*sqrt(3) - 6 + 6*sqrt(2) + 4*sqrt(6))) - 2927898*sqrt(-5*sqrt(3) - 6 + 6*sqrt(2) + 4*sqrt(6))*sqrt(-10*sqrt(-5*sqrt(3) - 6 + 6*sqrt(2) + 4*sqrt(6)) - 7*sqrt(2)*sqrt(-5*sqrt(3) - 6 + 6*sqrt(2) + 4*sqrt(6)) - 6*sqrt(6) - 4*sqrt(3) + 6*sqrt(2) + 6*sqrt(3)*sqrt(-5*sqrt(3) - 6 + 6*sqrt(2) + 4*sqrt(6)) + 20 + 5*sqrt(6)*sqrt(-5*sqrt(3) - 6 + 6*sqrt(2) + 4*sqrt(6))) - 2070336*sqrt(2)*sqrt(-5*sqrt(3) - 6 + 6*sqrt(2) + 4*sqrt(6))*sqrt(-10*sqrt(-5*sqrt(3) - 6 + 6*sqrt(2) + 4*sqrt(6)) - 7*sqrt(2)*sqrt(-5*sqrt(3) - 6 + 6*sqrt(2) + 4*sqrt(6)) - 6*sqrt(6) - 4*sqrt(3) + 6*sqrt(2) + 6*sqrt(3)*sqrt(-5*sqrt(3) - 6 + 6*sqrt(2) + 4*sqrt(6)) + 20 + 5*sqrt(6)*sqrt(-5*sqrt(3) - 6 + 6*sqrt(2) + 4*sqrt(6))) - 7140858*sqrt(-5*sqrt(6)*sqrt(-5*sqrt(3) - 6 + 6*sqrt(2) + 4*sqrt(6)) - 6*sqrt(3)*sqrt(-5*sqrt(3) - 6 + 6*sqrt(2) + 4*sqrt(6)) - 6*sqrt(6) - 4*sqrt(3) + 6*sqrt(2) + 7*sqrt(2)*sqrt(-5*sqrt(3) - 6 + 6*sqrt(2) + 4*sqrt(6)) + 10*sqrt(-5*sqrt(3) - 6 + 6*sqrt(2) + 4*sqrt(6)) + 20) - 5049348*sqrt(2)*sqrt(-5*sqrt(6)*sqrt(-5*sqrt(3) - 6 + 6*sqrt(2) + 4*sqrt(6)) - 6*sqrt(3)*sqrt(-5*sqrt(3) - 6 + 6*sqrt(2) + 4*sqrt(6)) - 6*sqrt(6) - 4*sqrt(3) + 6*sqrt(2) + 7*sqrt(2)*sqrt(-5*sqrt(3) - 6 + 6*sqrt(2) + 4*sqrt(6)) + 10*sqrt(-5*sqrt(3) - 6 + 6*sqrt(2) + 4*sqrt(6)) + 20) - 4121534*sqrt(3)*sqrt(-5*sqrt(6)*sqrt(-5*sqrt(3) - 6 + 6*sqrt(2) + 4*sqrt(6)) - 6*sqrt(3)*sqrt(-5*sqrt(3) - 6 + 6*sqrt(2) + 4*sqrt(6)) - 6*sqrt(6) - 4*sqrt(3) + 6*sqrt(2) + 7*sqrt(2)*sqrt(-5*sqrt(3) - 6 + 6*sqrt(2) + 4*sqrt(6)) + 10*sqrt(-5*sqrt(3) - 6 + 6*sqrt(2) + 4*sqrt(6)) + 20) - 2914364*sqrt(6)*sqrt(-5*sqrt(6)*sqrt(-5*sqrt(3) - 6 + 6*sqrt(2) + 4*sqrt(6)) - 6*sqrt(3)*sqrt(-5*sqrt(3) - 6 + 6*sqrt(2) + 4*sqrt(6)) - 6*sqrt(6) - 4*sqrt(3) + 6*sqrt(2) + 7*sqrt(2)*sqrt(-5*sqrt(3) - 6 + 6*sqrt(2) + 4*sqrt(6)) + 10*sqrt(-5*sqrt(3) - 6 + 6*sqrt(2) + 4*sqrt(6)) + 20) + 3750108*sqrt(-5*sqrt(3) - 6 + 6*sqrt(2) + 4*sqrt(6))*sqrt(-5*sqrt(6)*sqrt(-5*sqrt(3) - 6 + 6*sqrt(2) + 4*sqrt(6)) - 6*sqrt(3)*sqrt(-5*sqrt(3) - 6 + 6*sqrt(2) + 4*sqrt(6)) - 6*sqrt(6) - 4*sqrt(3) + 6*sqrt(2) + 7*sqrt(2)*sqrt(-5*sqrt(3) - 6 + 6*sqrt(2) + 4*sqrt(6)) + 10*sqrt(-5*sqrt(3) - 6 + 6*sqrt(2) + 4*sqrt(6)) + 20) + 2651727*sqrt(2)*sqrt(-5*sqrt(3) - 6 + 6*sqrt(2) + 4*sqrt(6))*sqrt(-5*sqrt(6)*sqrt(-5*sqrt(3) - 6 + 6*sqrt(2) + 4*sqrt(6)) - 6*sqrt(3)*sqrt(-5*sqrt(3) - 6 + 6*sqrt(2) + 4*sqrt(6)) - 6*sqrt(6) - 4*sqrt(3) + 6*sqrt(2) + 7*sqrt(2)*sqrt(-5*sqrt(3) - 6 + 6*sqrt(2) + 4*sqrt(6)) + 10*sqrt(-5*sqrt(3) - 6 + 6*sqrt(2) + 4*sqrt(6)) + 20) + 2166196*sqrt(3)*sqrt(-5*sqrt(3) - 6 + 6*sqrt(2) + 4*sqrt(6))*sqrt(-5*sqrt(6)*sqrt(-5*sqrt(3) - 6 + 6*sqrt(2) + 4*sqrt(6)) - 6*sqrt(3)*sqrt(-5*sqrt(3) - 6 + 6*sqrt(2) + 4*sqrt(6)) - 6*sqrt(6) - 4*sqrt(3) + 6*sqrt(2) + 7*sqrt(2)*sqrt(-5*sqrt(3) - 6 + 6*sqrt(2) + 4*sqrt(6)) + 10*sqrt(-5*sqrt(3) - 6 + 6*sqrt(2) + 4*sqrt(6)) + 20) + 1531732*sqrt(6)*sqrt(-5*sqrt(3) - 6 + 6*sqrt(2) + 4*sqrt(6))*sqrt(-5*sqrt(6)*sqrt(-5*sqrt(3) - 6 + 6*sqrt(2) + 4*sqrt(6)) - 6*sqrt(3)*sqrt(-5*sqrt(3) - 6 + 6*sqrt(2) + 4*sqrt(6)) - 6*sqrt(6) - 4*sqrt(3) + 6*sqrt(2) + 7*sqrt(2)*sqrt(-5*sqrt(3) - 6 + 6*sqrt(2) + 4*sqrt(6)) + 10*sqrt(-5*sqrt(3) - 6 + 6*sqrt(2) + 4*sqrt(6)) + 20) + 3224651*sqrt(3)*sqrt(-10*sqrt(-5*sqrt(3) - 6 + 6*sqrt(2) + 4*sqrt(6)) - 7*sqrt(2)*sqrt(-5*sqrt(3) - 6 + 6*sqrt(2) + 4*sqrt(6)) - 6*sqrt(6) - 4*sqrt(3) + 6*sqrt(2) + 6*sqrt(3)*sqrt(-5*sqrt(3) - 6 + 6*sqrt(2) + 4*sqrt(6)) + 20 + 5*sqrt(6)*sqrt(-5*sqrt(3) - 6 + 6*sqrt(2) + 4*sqrt(6))) + 2280173*sqrt(6)*sqrt(-10*sqrt(-5*sqrt(3) - 6 + 6*sqrt(2) + 4*sqrt(6)) - 7*sqrt(2)*sqrt(-5*sqrt(3) - 6 + 6*sqrt(2) + 4*sqrt(6)) - 6*sqrt(6) - 4*sqrt(3) + 6*sqrt(2) + 6*sqrt(3)*sqrt(-5*sqrt(3) - 6 + 6*sqrt(2) + 4*sqrt(6)) + 20 + 5*sqrt(6)*sqrt(-5*sqrt(3) - 6 + 6*sqrt(2) + 4*sqrt(6))) + 5623581*sqrt(-10*sqrt(-5*sqrt(3) - 6 + 6*sqrt(2) + 4*sqrt(6)) - 7*sqrt(2)*sqrt(-5*sqrt(3) - 6 + 6*sqrt(2) + 4*sqrt(6)) - 6*sqrt(6) - 4*sqrt(3) + 6*sqrt(2) + 6*sqrt(3)*sqrt(-5*sqrt(3) - 6 + 6*sqrt(2) + 4*sqrt(6)) + 20 + 5*sqrt(6)*sqrt(-5*sqrt(3) - 6 + 6*sqrt(2) + 4*sqrt(6))) + 3976473*sqrt(2)*sqrt(-10*sqrt(-5*sqrt(3) - 6 + 6*sqrt(2) + 4*sqrt(6)) - 7*sqrt(2)*sqrt(-5*sqrt(3) - 6 + 6*sqrt(2) + 4*sqrt(6)) - 6*sqrt(6) - 4*sqrt(3) + 6*sqrt(2) + 6*sqrt(3)*sqrt(-5*sqrt(3) - 6 + 6*sqrt(2) + 4*sqrt(6)) + 20 + 5*sqrt(6)*sqrt(-5*sqrt(3) - 6 + 6*sqrt(2) + 4*sqrt(6)))))]\n"
          ]
        }
      ]
    },
    {
      "cell_type": "code",
      "source": [
        "print(\"Exact Value:\", sol_line)\n",
        "print(\"\\nNumerical Value:\", sol_line[0].evalf())\n",
        "\n",
        "a11_i = interior_vertices_name.index(\"A11\")\n",
        "a11 = interior_vertices[a11_i]\n",
        "a12_i = interior_vertices_name.index(\"A12\")\n",
        "a12 = interior_vertices[a12_i]\n",
        "b1_i = interior_vertices_name.index(\"B1\")\n",
        "b1 = interior_vertices[b1_i]\n",
        "\n",
        "dist_a = distance(a11, a12)\n",
        "dist_b = distance(a11, b1)\n",
        "\n",
        "print(\"Numerical Value (Iterated):\", dist_a/dist_b)"
      ],
      "metadata": {
        "colab": {
          "base_uri": "https://localhost:8080/"
        },
        "id": "Hfs6I97iu8dV",
        "outputId": "1824a07c-f552-4803-a8f9-e65357fabf48"
      },
      "execution_count": null,
      "outputs": [
        {
          "output_type": "stream",
          "name": "stdout",
          "text": [
            "Exact Value: [3*sqrt(-10*sqrt(-5*sqrt(3) - 6 + 6*sqrt(2) + 4*sqrt(6)) - 7*sqrt(2)*sqrt(-5*sqrt(3) - 6 + 6*sqrt(2) + 4*sqrt(6)) - 6*sqrt(6) - 4*sqrt(3) + 6*sqrt(2) + 6*sqrt(3)*sqrt(-5*sqrt(3) - 6 + 6*sqrt(2) + 4*sqrt(6)) + 20 + 5*sqrt(6)*sqrt(-5*sqrt(3) - 6 + 6*sqrt(2) + 4*sqrt(6)))*(-37002394*sqrt(-5*sqrt(6)*sqrt(-5*sqrt(3) - 6 + 6*sqrt(2) + 4*sqrt(6)) - 6*sqrt(3)*sqrt(-5*sqrt(3) - 6 + 6*sqrt(2) + 4*sqrt(6)) - 6*sqrt(6) - 4*sqrt(3) + 6*sqrt(2) + 7*sqrt(2)*sqrt(-5*sqrt(3) - 6 + 6*sqrt(2) + 4*sqrt(6)) + 10*sqrt(-5*sqrt(3) - 6 + 6*sqrt(2) + 4*sqrt(6)) + 20) - 26164643*sqrt(2)*sqrt(-5*sqrt(6)*sqrt(-5*sqrt(3) - 6 + 6*sqrt(2) + 4*sqrt(6)) - 6*sqrt(3)*sqrt(-5*sqrt(3) - 6 + 6*sqrt(2) + 4*sqrt(6)) - 6*sqrt(6) - 4*sqrt(3) + 6*sqrt(2) + 7*sqrt(2)*sqrt(-5*sqrt(3) - 6 + 6*sqrt(2) + 4*sqrt(6)) + 10*sqrt(-5*sqrt(3) - 6 + 6*sqrt(2) + 4*sqrt(6)) + 20) - 21357574*sqrt(3)*sqrt(-5*sqrt(6)*sqrt(-5*sqrt(3) - 6 + 6*sqrt(2) + 4*sqrt(6)) - 6*sqrt(3)*sqrt(-5*sqrt(3) - 6 + 6*sqrt(2) + 4*sqrt(6)) - 6*sqrt(6) - 4*sqrt(3) + 6*sqrt(2) + 7*sqrt(2)*sqrt(-5*sqrt(3) - 6 + 6*sqrt(2) + 4*sqrt(6)) + 10*sqrt(-5*sqrt(3) - 6 + 6*sqrt(2) + 4*sqrt(6)) + 20) - 15102085*sqrt(6)*sqrt(-5*sqrt(6)*sqrt(-5*sqrt(3) - 6 + 6*sqrt(2) + 4*sqrt(6)) - 6*sqrt(3)*sqrt(-5*sqrt(3) - 6 + 6*sqrt(2) + 4*sqrt(6)) - 6*sqrt(6) - 4*sqrt(3) + 6*sqrt(2) + 7*sqrt(2)*sqrt(-5*sqrt(3) - 6 + 6*sqrt(2) + 4*sqrt(6)) + 10*sqrt(-5*sqrt(3) - 6 + 6*sqrt(2) + 4*sqrt(6)) + 20) - 5301964*sqrt(3) - 3749054*sqrt(6) - 9120692 - 6449302*sqrt(2) + 2760448*sqrt(3)*sqrt(-5*sqrt(3) - 6 + 6*sqrt(2) + 4*sqrt(6)) + 1951932*sqrt(6)*sqrt(-5*sqrt(3) - 6 + 6*sqrt(2) + 4*sqrt(6)) + 4835144*sqrt(-5*sqrt(3) - 6 + 6*sqrt(2) + 4*sqrt(6)) + 3418964*sqrt(2)*sqrt(-5*sqrt(3) - 6 + 6*sqrt(2) + 4*sqrt(6)) + 13741264*sqrt(2)*sqrt(-5*sqrt(3) - 6 + 6*sqrt(2) + 4*sqrt(6))*sqrt(-5*sqrt(6)*sqrt(-5*sqrt(3) - 6 + 6*sqrt(2) + 4*sqrt(6)) - 6*sqrt(3)*sqrt(-5*sqrt(3) - 6 + 6*sqrt(2) + 4*sqrt(6)) - 6*sqrt(6) - 4*sqrt(3) + 6*sqrt(2) + 7*sqrt(2)*sqrt(-5*sqrt(3) - 6 + 6*sqrt(2) + 4*sqrt(6)) + 10*sqrt(-5*sqrt(3) - 6 + 6*sqrt(2) + 4*sqrt(6)) + 20) + 19433082*sqrt(-5*sqrt(3) - 6 + 6*sqrt(2) + 4*sqrt(6))*sqrt(-5*sqrt(6)*sqrt(-5*sqrt(3) - 6 + 6*sqrt(2) + 4*sqrt(6)) - 6*sqrt(3)*sqrt(-5*sqrt(3) - 6 + 6*sqrt(2) + 4*sqrt(6)) - 6*sqrt(6) - 4*sqrt(3) + 6*sqrt(2) + 7*sqrt(2)*sqrt(-5*sqrt(3) - 6 + 6*sqrt(2) + 4*sqrt(6)) + 10*sqrt(-5*sqrt(3) - 6 + 6*sqrt(2) + 4*sqrt(6)) + 20) + 7937036*sqrt(6)*sqrt(-5*sqrt(3) - 6 + 6*sqrt(2) + 4*sqrt(6))*sqrt(-5*sqrt(6)*sqrt(-5*sqrt(3) - 6 + 6*sqrt(2) + 4*sqrt(6)) - 6*sqrt(3)*sqrt(-5*sqrt(3) - 6 + 6*sqrt(2) + 4*sqrt(6)) - 6*sqrt(6) - 4*sqrt(3) + 6*sqrt(2) + 7*sqrt(2)*sqrt(-5*sqrt(3) - 6 + 6*sqrt(2) + 4*sqrt(6)) + 10*sqrt(-5*sqrt(3) - 6 + 6*sqrt(2) + 4*sqrt(6)) + 20) + 11224664*sqrt(3)*sqrt(-5*sqrt(3) - 6 + 6*sqrt(2) + 4*sqrt(6))*sqrt(-5*sqrt(6)*sqrt(-5*sqrt(3) - 6 + 6*sqrt(2) + 4*sqrt(6)) - 6*sqrt(3)*sqrt(-5*sqrt(3) - 6 + 6*sqrt(2) + 4*sqrt(6)) - 6*sqrt(6) - 4*sqrt(3) + 6*sqrt(2) + 7*sqrt(2)*sqrt(-5*sqrt(3) - 6 + 6*sqrt(2) + 4*sqrt(6)) + 10*sqrt(-5*sqrt(3) - 6 + 6*sqrt(2) + 4*sqrt(6)) + 20))/(2*(-1709482*sqrt(3)*sqrt(-5*sqrt(3) - 6 + 6*sqrt(2) + 4*sqrt(6))*sqrt(-10*sqrt(-5*sqrt(3) - 6 + 6*sqrt(2) + 4*sqrt(6)) - 7*sqrt(2)*sqrt(-5*sqrt(3) - 6 + 6*sqrt(2) + 4*sqrt(6)) - 6*sqrt(6) - 4*sqrt(3) + 6*sqrt(2) + 6*sqrt(3)*sqrt(-5*sqrt(3) - 6 + 6*sqrt(2) + 4*sqrt(6)) + 20 + 5*sqrt(6)*sqrt(-5*sqrt(3) - 6 + 6*sqrt(2) + 4*sqrt(6))) - 1208786*sqrt(6)*sqrt(-5*sqrt(3) - 6 + 6*sqrt(2) + 4*sqrt(6))*sqrt(-10*sqrt(-5*sqrt(3) - 6 + 6*sqrt(2) + 4*sqrt(6)) - 7*sqrt(2)*sqrt(-5*sqrt(3) - 6 + 6*sqrt(2) + 4*sqrt(6)) - 6*sqrt(6) - 4*sqrt(3) + 6*sqrt(2) + 6*sqrt(3)*sqrt(-5*sqrt(3) - 6 + 6*sqrt(2) + 4*sqrt(6)) + 20 + 5*sqrt(6)*sqrt(-5*sqrt(3) - 6 + 6*sqrt(2) + 4*sqrt(6))) - 2927898*sqrt(-5*sqrt(3) - 6 + 6*sqrt(2) + 4*sqrt(6))*sqrt(-10*sqrt(-5*sqrt(3) - 6 + 6*sqrt(2) + 4*sqrt(6)) - 7*sqrt(2)*sqrt(-5*sqrt(3) - 6 + 6*sqrt(2) + 4*sqrt(6)) - 6*sqrt(6) - 4*sqrt(3) + 6*sqrt(2) + 6*sqrt(3)*sqrt(-5*sqrt(3) - 6 + 6*sqrt(2) + 4*sqrt(6)) + 20 + 5*sqrt(6)*sqrt(-5*sqrt(3) - 6 + 6*sqrt(2) + 4*sqrt(6))) - 2070336*sqrt(2)*sqrt(-5*sqrt(3) - 6 + 6*sqrt(2) + 4*sqrt(6))*sqrt(-10*sqrt(-5*sqrt(3) - 6 + 6*sqrt(2) + 4*sqrt(6)) - 7*sqrt(2)*sqrt(-5*sqrt(3) - 6 + 6*sqrt(2) + 4*sqrt(6)) - 6*sqrt(6) - 4*sqrt(3) + 6*sqrt(2) + 6*sqrt(3)*sqrt(-5*sqrt(3) - 6 + 6*sqrt(2) + 4*sqrt(6)) + 20 + 5*sqrt(6)*sqrt(-5*sqrt(3) - 6 + 6*sqrt(2) + 4*sqrt(6))) - 7140858*sqrt(-5*sqrt(6)*sqrt(-5*sqrt(3) - 6 + 6*sqrt(2) + 4*sqrt(6)) - 6*sqrt(3)*sqrt(-5*sqrt(3) - 6 + 6*sqrt(2) + 4*sqrt(6)) - 6*sqrt(6) - 4*sqrt(3) + 6*sqrt(2) + 7*sqrt(2)*sqrt(-5*sqrt(3) - 6 + 6*sqrt(2) + 4*sqrt(6)) + 10*sqrt(-5*sqrt(3) - 6 + 6*sqrt(2) + 4*sqrt(6)) + 20) - 5049348*sqrt(2)*sqrt(-5*sqrt(6)*sqrt(-5*sqrt(3) - 6 + 6*sqrt(2) + 4*sqrt(6)) - 6*sqrt(3)*sqrt(-5*sqrt(3) - 6 + 6*sqrt(2) + 4*sqrt(6)) - 6*sqrt(6) - 4*sqrt(3) + 6*sqrt(2) + 7*sqrt(2)*sqrt(-5*sqrt(3) - 6 + 6*sqrt(2) + 4*sqrt(6)) + 10*sqrt(-5*sqrt(3) - 6 + 6*sqrt(2) + 4*sqrt(6)) + 20) - 4121534*sqrt(3)*sqrt(-5*sqrt(6)*sqrt(-5*sqrt(3) - 6 + 6*sqrt(2) + 4*sqrt(6)) - 6*sqrt(3)*sqrt(-5*sqrt(3) - 6 + 6*sqrt(2) + 4*sqrt(6)) - 6*sqrt(6) - 4*sqrt(3) + 6*sqrt(2) + 7*sqrt(2)*sqrt(-5*sqrt(3) - 6 + 6*sqrt(2) + 4*sqrt(6)) + 10*sqrt(-5*sqrt(3) - 6 + 6*sqrt(2) + 4*sqrt(6)) + 20) - 2914364*sqrt(6)*sqrt(-5*sqrt(6)*sqrt(-5*sqrt(3) - 6 + 6*sqrt(2) + 4*sqrt(6)) - 6*sqrt(3)*sqrt(-5*sqrt(3) - 6 + 6*sqrt(2) + 4*sqrt(6)) - 6*sqrt(6) - 4*sqrt(3) + 6*sqrt(2) + 7*sqrt(2)*sqrt(-5*sqrt(3) - 6 + 6*sqrt(2) + 4*sqrt(6)) + 10*sqrt(-5*sqrt(3) - 6 + 6*sqrt(2) + 4*sqrt(6)) + 20) + 3750108*sqrt(-5*sqrt(3) - 6 + 6*sqrt(2) + 4*sqrt(6))*sqrt(-5*sqrt(6)*sqrt(-5*sqrt(3) - 6 + 6*sqrt(2) + 4*sqrt(6)) - 6*sqrt(3)*sqrt(-5*sqrt(3) - 6 + 6*sqrt(2) + 4*sqrt(6)) - 6*sqrt(6) - 4*sqrt(3) + 6*sqrt(2) + 7*sqrt(2)*sqrt(-5*sqrt(3) - 6 + 6*sqrt(2) + 4*sqrt(6)) + 10*sqrt(-5*sqrt(3) - 6 + 6*sqrt(2) + 4*sqrt(6)) + 20) + 2651727*sqrt(2)*sqrt(-5*sqrt(3) - 6 + 6*sqrt(2) + 4*sqrt(6))*sqrt(-5*sqrt(6)*sqrt(-5*sqrt(3) - 6 + 6*sqrt(2) + 4*sqrt(6)) - 6*sqrt(3)*sqrt(-5*sqrt(3) - 6 + 6*sqrt(2) + 4*sqrt(6)) - 6*sqrt(6) - 4*sqrt(3) + 6*sqrt(2) + 7*sqrt(2)*sqrt(-5*sqrt(3) - 6 + 6*sqrt(2) + 4*sqrt(6)) + 10*sqrt(-5*sqrt(3) - 6 + 6*sqrt(2) + 4*sqrt(6)) + 20) + 2166196*sqrt(3)*sqrt(-5*sqrt(3) - 6 + 6*sqrt(2) + 4*sqrt(6))*sqrt(-5*sqrt(6)*sqrt(-5*sqrt(3) - 6 + 6*sqrt(2) + 4*sqrt(6)) - 6*sqrt(3)*sqrt(-5*sqrt(3) - 6 + 6*sqrt(2) + 4*sqrt(6)) - 6*sqrt(6) - 4*sqrt(3) + 6*sqrt(2) + 7*sqrt(2)*sqrt(-5*sqrt(3) - 6 + 6*sqrt(2) + 4*sqrt(6)) + 10*sqrt(-5*sqrt(3) - 6 + 6*sqrt(2) + 4*sqrt(6)) + 20) + 1531732*sqrt(6)*sqrt(-5*sqrt(3) - 6 + 6*sqrt(2) + 4*sqrt(6))*sqrt(-5*sqrt(6)*sqrt(-5*sqrt(3) - 6 + 6*sqrt(2) + 4*sqrt(6)) - 6*sqrt(3)*sqrt(-5*sqrt(3) - 6 + 6*sqrt(2) + 4*sqrt(6)) - 6*sqrt(6) - 4*sqrt(3) + 6*sqrt(2) + 7*sqrt(2)*sqrt(-5*sqrt(3) - 6 + 6*sqrt(2) + 4*sqrt(6)) + 10*sqrt(-5*sqrt(3) - 6 + 6*sqrt(2) + 4*sqrt(6)) + 20) + 3224651*sqrt(3)*sqrt(-10*sqrt(-5*sqrt(3) - 6 + 6*sqrt(2) + 4*sqrt(6)) - 7*sqrt(2)*sqrt(-5*sqrt(3) - 6 + 6*sqrt(2) + 4*sqrt(6)) - 6*sqrt(6) - 4*sqrt(3) + 6*sqrt(2) + 6*sqrt(3)*sqrt(-5*sqrt(3) - 6 + 6*sqrt(2) + 4*sqrt(6)) + 20 + 5*sqrt(6)*sqrt(-5*sqrt(3) - 6 + 6*sqrt(2) + 4*sqrt(6))) + 2280173*sqrt(6)*sqrt(-10*sqrt(-5*sqrt(3) - 6 + 6*sqrt(2) + 4*sqrt(6)) - 7*sqrt(2)*sqrt(-5*sqrt(3) - 6 + 6*sqrt(2) + 4*sqrt(6)) - 6*sqrt(6) - 4*sqrt(3) + 6*sqrt(2) + 6*sqrt(3)*sqrt(-5*sqrt(3) - 6 + 6*sqrt(2) + 4*sqrt(6)) + 20 + 5*sqrt(6)*sqrt(-5*sqrt(3) - 6 + 6*sqrt(2) + 4*sqrt(6))) + 5623581*sqrt(-10*sqrt(-5*sqrt(3) - 6 + 6*sqrt(2) + 4*sqrt(6)) - 7*sqrt(2)*sqrt(-5*sqrt(3) - 6 + 6*sqrt(2) + 4*sqrt(6)) - 6*sqrt(6) - 4*sqrt(3) + 6*sqrt(2) + 6*sqrt(3)*sqrt(-5*sqrt(3) - 6 + 6*sqrt(2) + 4*sqrt(6)) + 20 + 5*sqrt(6)*sqrt(-5*sqrt(3) - 6 + 6*sqrt(2) + 4*sqrt(6))) + 3976473*sqrt(2)*sqrt(-10*sqrt(-5*sqrt(3) - 6 + 6*sqrt(2) + 4*sqrt(6)) - 7*sqrt(2)*sqrt(-5*sqrt(3) - 6 + 6*sqrt(2) + 4*sqrt(6)) - 6*sqrt(6) - 4*sqrt(3) + 6*sqrt(2) + 6*sqrt(3)*sqrt(-5*sqrt(3) - 6 + 6*sqrt(2) + 4*sqrt(6)) + 20 + 5*sqrt(6)*sqrt(-5*sqrt(3) - 6 + 6*sqrt(2) + 4*sqrt(6)))))]\n",
            "\n",
            "Numerical Value: 0.753334985772626\n",
            "Numerical Value (Iterated): 0.7533349858019277\n"
          ]
        }
      ]
    },
    {
      "cell_type": "code",
      "source": [
        "x = symbols('x')\n",
        "a, b = symbols('a b')\n",
        "eq3 = Eq((1 - cot(3 * pi / 2 - a)) / (1 - cot(b)),\n",
        "        (sqrt(6) * (1 - cot(3 * pi / 2 - a)) + x) / (sqrt(6) + x))\n",
        "sol_line_expr = solve(eq3, x)\n",
        "print(sol_line_expr)"
      ],
      "metadata": {
        "colab": {
          "base_uri": "https://localhost:8080/"
        },
        "id": "YJ0JTHO4v2Ib",
        "outputId": "49575ff1-baac-4b9e-8733-0eb3df30443e"
      },
      "execution_count": null,
      "outputs": [
        {
          "output_type": "stream",
          "name": "stdout",
          "text": [
            "[sqrt(6)*(1 - tan(a))/(tan(a)*tan(b) - 1)]\n"
          ]
        }
      ]
    },
    {
      "cell_type": "markdown",
      "source": [
        "This means that we have now obtained the exact values for the necessary angles and edge ratios, with:\n",
        "- $\\alpha = \\pi - \\arcsin(\\sin(2\\cdot \\arctan(-\\sqrt{2}\\cdot\\sqrt(-5\\cdot\\sqrt{3} - 6 + 6\\cdot \\sqrt{2} + 4\\cdot \\sqrt{6}) - \\sqrt{-5\\cdot \\sqrt{3} - 6 + 6\\cdot\\sqrt{2} + 4\\cdot\\sqrt{6}} + \\sqrt{2}/2 + \\sqrt{6}/2 + \\sqrt{3})) - \\sqrt{2}/4 + 1/2 + \\sqrt{6}/4)$"
      ],
      "metadata": {
        "id": "ifeGz5Q28gO5"
      }
    }
  ]
}