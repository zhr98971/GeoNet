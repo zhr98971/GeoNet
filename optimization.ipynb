{
  "nbformat": 4,
  "nbformat_minor": 0,
  "metadata": {
    "colab": {
      "provenance": []
    },
    "kernelspec": {
      "name": "python3",
      "display_name": "Python 3"
    },
    "language_info": {
      "name": "python"
    }
  },
  "cells": [
    {
      "cell_type": "markdown",
      "source": [
        "# 1: Imports and"
      ],
      "metadata": {
        "id": "X7nXOhYiaINE"
      }
    },
    {
      "cell_type": "code",
      "execution_count": null,
      "metadata": {
        "id": "sbfZ-1dYaHA1"
      },
      "outputs": [],
      "source": [
        "import pandas as pd\n",
        "import numpy as np\n",
        "import matplotlib.pyplot as plt\n",
        "from __future__ import annotations"
      ]
    },
    {
      "cell_type": "markdown",
      "source": [
        "# 2: Defining Necessary Objects and Associated Functions"
      ],
      "metadata": {
        "id": "LwAhMxEHafGi"
      }
    },
    {
      "cell_type": "markdown",
      "source": [
        "## 2.1 Defining Point Object"
      ],
      "metadata": {
        "id": "CmRpGkIygslc"
      }
    },
    {
      "cell_type": "code",
      "source": [
        "class Point:\n",
        "  '''\n",
        "  Creates a point on the surface.\n",
        "    - float x: x coordinate\n",
        "    - float y: y coordinate\n",
        "    - list[Point] adj: list of adjacent points\n",
        "    - tuple(float, float) imbal: direction of imbalance of the point\n",
        "    - bool is_boundary: whether the point is a boundary point\n",
        "  '''\n",
        "\n",
        "  def __init__(self, x: float, y:float, is_boundary: bool = False):\n",
        "    '''\n",
        "    Constructor for Point\n",
        "    '''\n",
        "    self.x = x\n",
        "    self.y = y\n",
        "    self.adj = []\n",
        "    self.adj_dirs = {}\n",
        "    self.imbal = (0, 0)\n",
        "    self.is_boundary = is_boundary\n",
        "\n",
        "  def __str__(self) -> str:\n",
        "    '''\n",
        "    Returns a string representation of the point.\n",
        "    '''\n",
        "    return f'({self.x}, {self.y})'\n",
        "\n",
        "  def add_pt(self, pt: Point) -> bool:\n",
        "    '''\n",
        "    Adds a point to the adjacent list and updates the adj_dirs dict. Returns\n",
        "    True if successful, False otherwise.\n",
        "    '''\n",
        "    dist = np.sqrt((pt.x - self.x)**2 + (pt.y - self.y)**2)\n",
        "    if (dist == 0):\n",
        "      return False\n",
        "\n",
        "    self.adj.append(pt)\n",
        "    dir_x = (pt.x - self.x) / dist\n",
        "    dir_y = (pt.y - self.y) / dist\n",
        "    self.adj_dirs[pt] = (dir_x, dir_y)\n",
        "    self._update_imbal()\n",
        "    return True\n",
        "\n",
        "  def remove_pt(self, pt: Point) -> bool:\n",
        "    '''\n",
        "    Removes a point from the adjacent list and updates the adj_dirs dict.\n",
        "    Returns True if successful, False otherwise.\n",
        "    '''\n",
        "    if pt not in self.adj:\n",
        "      return False\n",
        "    self.adj.remove(pt)\n",
        "    del self.adj_dirs[pt]\n",
        "    self._update_imbal()\n",
        "    return True\n",
        "\n",
        "  def _update_adj_dirs(self) -> None:\n",
        "    '''\n",
        "    Updates the adj_dirs dict. Used as helper function for update_position\n",
        "    '''\n",
        "    for pt in self.adj:\n",
        "      dist = np.sqrt((pt.x - self.x)**2 + (pt.y - self.y)**2)\n",
        "      dir_x = (pt.x - self.x) / dist\n",
        "      dir_y = (pt.y - self.y) / dist\n",
        "      self.adj_dirs[pt] = (dir_x, dir_y)\n",
        "\n",
        "\n",
        "  def _update_imbal(self) -> None:\n",
        "    '''\n",
        "    Updates the imbalance of the point using adj_dirs dict. Used as helper\n",
        "    function for add_pt and remove_pt\n",
        "    '''\n",
        "    dir_x = 0\n",
        "    dir_y = 0\n",
        "    for dir in self.adj_dirs:\n",
        "      dir_x += self.adj_dirs[dir][0]\n",
        "      dir_y += self.adj_dirs[dir][1]\n",
        "    self.imbal = (dir_x, dir_y)\n",
        "\n",
        "\n",
        "  def update_position(self, x: float, y: float) -> None:\n",
        "    '''\n",
        "    Updates the position of the point.\n",
        "    '''\n",
        "    self.x = x\n",
        "    self.y = y\n",
        "    self._update_adj_dirs()\n",
        "    self._update_imbal()"
      ],
      "metadata": {
        "id": "I5w90IbNaQzq"
      },
      "execution_count": null,
      "outputs": []
    },
    {
      "cell_type": "markdown",
      "source": [
        "## 2.2: Defining Functions"
      ],
      "metadata": {
        "id": "611a0UWlphcK"
      }
    },
    {
      "cell_type": "markdown",
      "source": [
        "### 2.2.1: Functions for Computing, Generating, and Processing Points"
      ],
      "metadata": {
        "id": "lnoqieOPnJ69"
      }
    },
    {
      "cell_type": "code",
      "source": [
        "def connect(p1: Point, p2: Point) -> bool:\n",
        "  '''\n",
        "  Connects two points together. Returns True if successful, False otherwise.\n",
        "  '''\n",
        "  return p1.add_pt(p2) and p2.add_pt(p1)\n",
        "\n",
        "\n",
        "def distance(p1: Point, p2: Point) -> float:\n",
        "  '''\n",
        "  Returns the distance between two points.\n",
        "  '''\n",
        "  return np.sqrt((p1.x - p2.x)**2 + (p1.y - p2.y)**2)\n",
        "\n",
        "\n",
        "def direction(anchor: Point, point: Point) -> tuple(float, float):\n",
        "  '''\n",
        "  Returns the unit vector direction from anchor to point.\n",
        "  '''\n",
        "  dist = distance(anchor, point)\n",
        "  return (point.x - anchor.x) / dist, (point.y - anchor.y) / dist\n",
        "\n",
        "\n",
        "def angle_from_x_axis(anchor: Point, point: Point) -> float:\n",
        "  '''\n",
        "  Returns the angle of the vector from anchor to point from the x axis,\n",
        "  measured in radians and counterclockwise.\n",
        "  '''\n",
        "  # print(\"anchor:\", anchor, \", point:\", point)\n",
        "  # print(\"angle from x debug\", \"y =\", (point.y - anchor.y), \", x = \",(point.x - anchor.x))\n",
        "  return np.arctan2(point.y - anchor.y, point.x - anchor.x)\n",
        "\n",
        "\n",
        "def degrees_to_radians(degrees: float) -> float:\n",
        "  '''\n",
        "  Converts degrees to radians.\n",
        "  '''\n",
        "  return degrees * np.pi / 180\n",
        "\n",
        "\n",
        "def radians_to_degrees(radians: float) -> float:\n",
        "  '''\n",
        "  Converts radians to degrees.\n",
        "  '''\n",
        "  return radians * 180 / np.pi\n",
        "\n",
        "\n",
        "def rotate_anticlockwise(point: Point, angle: float, anchor: Point) -> Point:\n",
        "  '''\n",
        "  Returns a new interior point with the coordinates of point rotated\n",
        "  anticlockwise by angle in randians around anchor.\n",
        "  '''\n",
        "  dist = distance(anchor, point)\n",
        "  anchor_to_pt_angle = angle_from_x_axis(anchor, point)\n",
        "  angle += anchor_to_pt_angle\n",
        "  # print(\"rotate_anticlockwise debug: new_angle =\", radians_to_degrees(angle),\n",
        "  #       \", anchor_to_pt_angle =\", radians_to_degrees(anchor_to_pt_angle))\n",
        "\n",
        "\n",
        "  new_x = anchor.x + dist * np.cos(angle)\n",
        "  new_y = anchor.y + dist * np.sin(angle)\n",
        "  return Point(new_x, new_y)\n",
        "\n",
        "\n",
        "def midpoint(p1: Point, p2: Point) -> Point:\n",
        "  '''\n",
        "  Returns a new interior point with coords that is the midpoint of p1 and p2.\n",
        "  '''\n",
        "\n",
        "  return Point((p1.x + p2.x) / 2, (p1.y + p2.y) / 2)\n",
        "\n",
        "\n",
        "def intersect(anchor_1: Point, dir_1: tuple(float, float), anchor_2: Point, dir_2: tuple(float, float)) -> Point:\n",
        "  '''\n",
        "  Returns the point of intersection between two lines starting at anchor_1 and\n",
        "  anchor_2, with directions dir_1 and dir_2 respectively.\n",
        "  '''\n",
        "  pt_1 = np.array([anchor_1.x, anchor_1.y])\n",
        "  pt_2 = np.array([anchor_2.x, anchor_2.y])\n",
        "  b = pt_2 - pt_1\n",
        "\n",
        "  dir_1 = np.array(dir_1)\n",
        "  dir_2 = np.array(dir_2)\n",
        "  A = np.column_stack((dir_1, -dir_2))\n",
        "\n",
        "  if np.linalg.det(A) == 0: # No solution or no unique solution\n",
        "    return None\n",
        "\n",
        "  t_s = np.linalg.solve(A, b)\n",
        "\n",
        "  t = t_s[0]\n",
        "  s = t_s[1]\n",
        "\n",
        "  # print(\"debug intersect result with t: t =\", t, \", x =\", (pt_1[0] + t * dir_1[0]), \", y=\", pt_1[1] + t * dir_1[1])\n",
        "  # print(\"debug intersect result with s: s =\", s, \", x =\", (pt_2[0] + s * dir_2[0]),  \", y=\", pt_2[1] + s * dir_2[1])\n",
        "\n",
        "  return Point(pt_2[0] + s * dir_2[0], pt_2[1] + s * dir_2[1])\n",
        "\n"
      ],
      "metadata": {
        "id": "-3QQZmXpprq7"
      },
      "execution_count": null,
      "outputs": []
    },
    {
      "cell_type": "markdown",
      "source": [
        "### 2.2.2: Functions for Visualization"
      ],
      "metadata": {
        "id": "eImsn9QAoh3b"
      }
    },
    {
      "cell_type": "code",
      "source": [
        "def draw_line(pt_1: Point, pt_2: Point) -> None:\n",
        "  '''\n",
        "  Draws a line between pt_1 and pt_2.\n",
        "  '''\n",
        "  plt.plot([pt_1.x, pt_2.x], [pt_1.y, pt_2.y], color='blue', alpha=0.25)"
      ],
      "metadata": {
        "id": "vSOwidgIpTvz"
      },
      "execution_count": null,
      "outputs": []
    },
    {
      "cell_type": "markdown",
      "source": [
        "# 3: Defining Value of All Points\n",
        "\n",
        "*Note: In the future, if I am designing new nets, I might write a script that takes the input of form of an adjacency list `G(V,E)`. *"
      ],
      "metadata": {
        "id": "0ILbVb2Qr8xB"
      }
    },
    {
      "cell_type": "code",
      "source": [
        "from math import degrees\n",
        "'''\n",
        "This script defines the preliminary geodesic net with 4 boundary vertices and\n",
        "25 interior (potentially balanced) vertices.\n",
        "'''\n",
        "\n",
        "interior_vertices = []\n",
        "interior_vertices_name = [\"A12\", \"A11\", \"B1\", \"A42\", \"A41\", \"B4\", \"A32\", \"A31\",\n",
        "                          \"B3\", \"A22\", \"A21\", \"B2\",\n",
        "                          \"P\", \"F1\", \"F2\", \"F3\", \"F4\",\n",
        "                          \"C1\", \"C2\", \"C3\", \"C4\"]\n",
        "boundary_vertices = []\n",
        "boundary_vertices_name = [\"D1\", \"D2\", \"D3\", \"D4\"]\n",
        "\n",
        "\n",
        "#######################\n",
        "# Interior Vertices 1\n",
        "#######################\n",
        "\n",
        "# Defining and connecting the dodecagon (A and B points)\n",
        "\n",
        "edge_length = 10 # Modify depending on the optimization\n",
        "\n",
        "a12 = Point(edge_length, 0)\n",
        "interior_vertices.append(a12)\n",
        "a11 = Point(0, 0)\n",
        "interior_vertices.append(a11)\n",
        "connect(a12, a11)\n",
        "\n",
        "angle1 = degrees_to_radians(165)\n",
        "angle2 = degrees_to_radians(120)\n",
        "\n",
        "for i in range(1, 11):\n",
        "  if (i - 2) % 3 == 0:\n",
        "    p = rotate_anticlockwise(interior_vertices[-2], angle2, interior_vertices[-1])\n",
        "  else:\n",
        "    p = rotate_anticlockwise(interior_vertices[-2], angle1, interior_vertices[-1])\n",
        "  interior_vertices.append(p)\n",
        "  connect(interior_vertices[-2], interior_vertices[-1])\n",
        "\n",
        "connect(interior_vertices[0], interior_vertices[-1])\n",
        "\n",
        "# Defining and connecting the 5 vertices inside the dodecagon\n",
        "\n",
        "## Midpoint P\n",
        "i = interior_vertices_name.index(\"B1\")\n",
        "j = interior_vertices_name.index(\"B3\")\n",
        "\n",
        "p = midpoint(interior_vertices[i], interior_vertices[j])\n",
        "interior_vertices.append(p)\n",
        "\n",
        "## F points\n",
        "\n",
        "lst = [(\"A11\", \"A12\"), (\"A21\", \"A22\"), (\"A31\", \"A32\"), (\"A41\", \"A42\")]\n",
        "# label name to iterate on\n",
        "\n",
        "for label in lst:\n",
        "  i1 = interior_vertices_name.index(label[0])\n",
        "  i2 = interior_vertices_name.index(label[1])\n",
        "  f = midpoint(interior_vertices[i1], interior_vertices[i2])\n",
        "\n",
        "  dist = distance(f, interior_vertices[i1])\n",
        "  dist = dist / np.sqrt(3)\n",
        "  dir = direction(f, p)\n",
        "  dir = (dir[0] * dist, dir[1] * dist)\n",
        "  f.update_position(f.x + dir[0], f.y + dir[1])\n",
        "\n",
        "  interior_vertices.append(f)\n",
        "\n",
        "  connect(interior_vertices[i1], f)\n",
        "  connect(interior_vertices[i2], f)\n",
        "  connect(p, f)\n",
        "\n",
        "# Defining and connecting the 4 vertices close to the B vertices (C points)\n",
        "\n",
        "t = 0.0115 # Modify depending on the optimization\n",
        "\n",
        "lst = [(\"B1\", \"A42\", \"A11\"), (\"B2\", \"A12\", \"A21\"), (\"B3\", \"A22\", \"A31\"),\n",
        "       (\"B4\", \"A32\", \"A41\")] # label name to iterate on\n",
        "\n",
        "for label in lst:\n",
        "  i = interior_vertices_name.index(label[0])\n",
        "\n",
        "  j1 = interior_vertices_name.index(label[1])\n",
        "  j2 = interior_vertices_name.index(label[2])\n",
        "\n",
        "  x = (1 + t) * interior_vertices[i].x - t * p.x\n",
        "  y = (1 + t) * interior_vertices[i].y - t * p.y\n",
        "  c = Point(x, y)\n",
        "  interior_vertices.append(c)\n",
        "  connect(interior_vertices[i], c)\n",
        "  connect(interior_vertices[j1], c)\n",
        "  connect(interior_vertices[j2], c)\n",
        "\n",
        "\n",
        "#######################\n",
        "# Boundary Vertices (D points)\n",
        "#######################\n",
        "\n",
        "lst = [(\"C1\", \"C2\", \"A42\", \"A21\", \"A11\", \"A12\"),\n",
        "       (\"C2\", \"C3\", \"A12\", \"A31\", \"A21\", \"A22\"),\n",
        "       (\"C3\", \"C4\", \"A22\", \"A41\", \"A31\", \"A32\"),\n",
        "       (\"C4\", \"C1\", \"A32\", \"A11\", \"A41\", \"A42\")]\n",
        "       # label name to iterate on\n",
        "\n",
        "for label in lst:\n",
        "  i1 = interior_vertices_name.index(label[0])\n",
        "  pt_1 = interior_vertices[i1]\n",
        "  i2 = interior_vertices_name.index(label[1])\n",
        "  pt_2 = interior_vertices[i2]\n",
        "\n",
        "  j1 = interior_vertices_name.index(label[2])\n",
        "  anchor_1 = interior_vertices[j1]\n",
        "  j2 = interior_vertices_name.index(label[3])\n",
        "  anchor_2 = interior_vertices[j2]\n",
        "\n",
        "  k1 = interior_vertices_name.index(label[4])\n",
        "  pt_3 = interior_vertices[k1]\n",
        "  k2 = interior_vertices_name.index(label[5])\n",
        "  pt_4 = interior_vertices[k2]\n",
        "\n",
        "  dir_1 = direction(anchor_1, pt_1)\n",
        "  dir_2 = direction(anchor_2, pt_2)\n",
        "  # print(\"debug Boundary Vertices: dir_1 =\", dir_1, \", dir_2 =\", dir_2)\n",
        "\n",
        "  d = intersect(anchor_1, dir_1, anchor_2, dir_2)\n",
        "\n",
        "  if (d == None):\n",
        "    print(\"Error: No intersection found\")\n",
        "    exit()\n",
        "\n",
        "  d.is_boundary = True\n",
        "  # print(\"debug Boundary Vertices: D =\", d)\n",
        "  boundary_vertices.append(d)\n",
        "  connect(pt_1, d)\n",
        "  connect(pt_2, d)\n",
        "  connect(pt_3, d)\n",
        "  connect(pt_4, d)\n",
        "\n",
        "\n",
        "#######################\n",
        "# Interior Vertices 2 (E points)\n",
        "#######################\n",
        "\n"
      ],
      "metadata": {
        "id": "gV33m_0XspO3"
      },
      "execution_count": null,
      "outputs": []
    },
    {
      "cell_type": "markdown",
      "source": [
        "Visualizing the Points"
      ],
      "metadata": {
        "id": "03jdxFfXE3W4"
      }
    },
    {
      "cell_type": "code",
      "source": [
        "coords_int = []\n",
        "for i in range(len(interior_vertices)):\n",
        "  coords_int.append((interior_vertices[i].x, interior_vertices[i].y))\n",
        "\n",
        "coords_bound = []\n",
        "for i in range(len(boundary_vertices)):\n",
        "  coords_bound.append((boundary_vertices[i].x, boundary_vertices[i].y))\n",
        "\n",
        "plt.scatter(*zip(*coords_int), s=30, marker=\".\", color=\"purple\")\n",
        "plt.scatter(*zip(*coords_bound), s=30, marker=\".\", color=\"red\")\n",
        "\n",
        "# Might need BFS/DFS to traverse whole graph and draw all edges\n",
        "# Alternative is draw all edges twice (current implementation)\n",
        "\n",
        "for i in range(len(interior_vertices)):\n",
        "  adj_pts = interior_vertices[i].adj\n",
        "  for j in range(len(adj_pts)):\n",
        "    draw_line(interior_vertices[i], adj_pts[j])\n",
        "\n",
        "for i in range(len(boundary_vertices)):\n",
        "  adj_pts = boundary_vertices[i].adj\n",
        "  for j in range(len(adj_pts)):\n",
        "    draw_line(boundary_vertices[i], adj_pts[j])\n",
        "\n",
        "plt.axis('equal')\n",
        "plt.show"
      ],
      "metadata": {
        "colab": {
          "base_uri": "https://localhost:8080/",
          "height": 598
        },
        "id": "RRRtsklI-bfJ",
        "outputId": "98b36575-5a40-4f23-9356-d5d7689f9a6b"
      },
      "execution_count": null,
      "outputs": [
        {
          "output_type": "execute_result",
          "data": {
            "text/plain": [
              "<function matplotlib.pyplot.show(close=None, block=None)>"
            ],
            "text/html": [
              "<div style=\"max-width:800px; border: 1px solid var(--colab-border-color);\"><style>\n",
              "      pre.function-repr-contents {\n",
              "        overflow-x: auto;\n",
              "        padding: 8px 12px;\n",
              "        max-height: 500px;\n",
              "      }\n",
              "\n",
              "      pre.function-repr-contents.function-repr-contents-collapsed {\n",
              "        cursor: pointer;\n",
              "        max-height: 100px;\n",
              "      }\n",
              "    </style>\n",
              "    <pre style=\"white-space: initial; background:\n",
              "         var(--colab-secondary-surface-color); padding: 8px 12px;\n",
              "         border-bottom: 1px solid var(--colab-border-color);\"><b>matplotlib.pyplot.show</b><br/>def show(*args, **kwargs) -&gt; None</pre><pre class=\"function-repr-contents function-repr-contents-collapsed\" style=\"\"><a class=\"filepath\" style=\"display:none\" href=\"#\">/usr/local/lib/python3.11/dist-packages/matplotlib/pyplot.py</a>Display all open figures.\n",
              "\n",
              "Parameters\n",
              "----------\n",
              "block : bool, optional\n",
              "    Whether to wait for all figures to be closed before returning.\n",
              "\n",
              "    If `True` block and run the GUI main loop until all figure windows\n",
              "    are closed.\n",
              "\n",
              "    If `False` ensure that all figure windows are displayed and return\n",
              "    immediately.  In this case, you are responsible for ensuring\n",
              "    that the event loop is running to have responsive figures.\n",
              "\n",
              "    Defaults to True in non-interactive mode and to False in interactive\n",
              "    mode (see `.pyplot.isinteractive`).\n",
              "\n",
              "See Also\n",
              "--------\n",
              "ion : Enable interactive mode, which shows / updates the figure after\n",
              "      every plotting command, so that calling ``show()`` is not necessary.\n",
              "ioff : Disable interactive mode.\n",
              "savefig : Save the figure to an image file instead of showing it on screen.\n",
              "\n",
              "Notes\n",
              "-----\n",
              "**Saving figures to file and showing a window at the same time**\n",
              "\n",
              "If you want an image file as well as a user interface window, use\n",
              "`.pyplot.savefig` before `.pyplot.show`. At the end of (a blocking)\n",
              "``show()`` the figure is closed and thus unregistered from pyplot. Calling\n",
              "`.pyplot.savefig` afterwards would save a new and thus empty figure. This\n",
              "limitation of command order does not apply if the show is non-blocking or\n",
              "if you keep a reference to the figure and use `.Figure.savefig`.\n",
              "\n",
              "**Auto-show in jupyter notebooks**\n",
              "\n",
              "The jupyter backends (activated via ``%matplotlib inline``,\n",
              "``%matplotlib notebook``, or ``%matplotlib widget``), call ``show()`` at\n",
              "the end of every cell by default. Thus, you usually don&#x27;t have to call it\n",
              "explicitly there.</pre>\n",
              "      <script>\n",
              "      if (google.colab.kernel.accessAllowed && google.colab.files && google.colab.files.view) {\n",
              "        for (const element of document.querySelectorAll('.filepath')) {\n",
              "          element.style.display = 'block'\n",
              "          element.onclick = (event) => {\n",
              "            event.preventDefault();\n",
              "            event.stopPropagation();\n",
              "            google.colab.files.view(element.textContent, 569);\n",
              "          };\n",
              "        }\n",
              "      }\n",
              "      for (const element of document.querySelectorAll('.function-repr-contents')) {\n",
              "        element.onclick = (event) => {\n",
              "          event.preventDefault();\n",
              "          event.stopPropagation();\n",
              "          element.classList.toggle('function-repr-contents-collapsed');\n",
              "        };\n",
              "      }\n",
              "      </script>\n",
              "      </div>"
            ]
          },
          "metadata": {},
          "execution_count": 217
        },
        {
          "output_type": "display_data",
          "data": {
            "text/plain": [
              "<Figure size 640x480 with 1 Axes>"
            ],
            "image/png": "[encoded data removed]"
          },
          "metadata": {}
        }
      ]
    },
    {
      "cell_type": "code",
      "source": [
        "i = interior_vertices_name.index(\"A11\")\n",
        "p = interior_vertices[i]\n",
        "print(p.imbal)\n"
      ],
      "metadata": {
        "colab": {
          "base_uri": "https://localhost:8080/"
        },
        "id": "a2w-jTLBuFlj",
        "outputId": "870eccdc-c20e-483a-855b-4016d8483034"
      },
      "execution_count": null,
      "outputs": [
        {
          "output_type": "stream",
          "name": "stdout",
          "text": [
            "(np.float64(0.01526747158519115), np.float64(0.0015996337554474716))\n"
          ]
        }
      ]
    }
  ]
}